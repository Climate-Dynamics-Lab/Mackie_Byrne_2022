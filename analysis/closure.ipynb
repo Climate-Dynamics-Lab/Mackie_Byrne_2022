{
 "cells": [
  {
   "cell_type": "markdown",
   "metadata": {},
   "source": [
    "## Closure\n",
    "Anna Mackie, 2022\n",
    "\n",
    "A script to check that the '3D' method of wa500 selection and dynamic effect. Looping through each model, the data is decomposed into dynamic, thermodyanmic and nonlinear components. These are then recombined and checked against total cloud feedback (calculated directly) to ensure the differences are negligable.\n",
    "\n",
    "## Note on method of R(w) and A(w) calculation\n",
    "Please see Methods section for more detail. Approach is to \n",
    "1. load 3D (level, x, y) pressure and vertical velocity fields\n",
    "2. find, at each grid point (x, y), the level which is closest to 500 hPa in the pressure field\n",
    "3. use this (level, x, y) to extract vertical velocity at ~ 500 hPa\n",
    "4. sort vertical velocity at 500 hPa into vertical velocity 'bins' using np.digitize\n",
    "5. take mean of longwave and shortwave CRE of gridpoints within each vertical velocity 'bin' to create R(w) functions\n",
    "6. take proportion of gridpoints within each vertical velocity 'bin' to create A(w) function.## Note on method of R(w) and A(w) calculation\n",
    "\n",
    "\n",
    "No figures produced."
   ]
  },
  {
   "cell_type": "code",
   "execution_count": 1,
   "metadata": {},
   "outputs": [
    {
     "name": "stdout",
     "output_type": "stream",
     "text": [
      "/home/users/arm33/nb-venvs/metpy_venv/lib/python3.10/site-packages/metpy/__init__.py\n"
     ]
    }
   ],
   "source": [
    "# activate virtual environmnet required for metpy\n",
    "import sys\n",
    "import pathlib\n",
    "import platform\n",
    "venv_path = '~/nb-venvs/metpy_venv'\n",
    "sys.path.append(str(pathlib.Path(f'{venv_path}/lib/python{platform.python_version_tuple()[0]}.{platform.python_version_tuple()[1]}/site-packages/').expanduser()))\n",
    "\n",
    "import metpy\n",
    "print(metpy.__file__)"
   ]
  },
  {
   "cell_type": "code",
   "execution_count": 2,
   "metadata": {},
   "outputs": [],
   "source": [
    "import numpy as np\n",
    "import numpy.ma as ma\n",
    "import matplotlib.pyplot as plt\n",
    "from netCDF4 import Dataset\n",
    "from metpy.calc import saturation_mixing_ratio\n",
    "from metpy.units import units\n",
    "from scipy import stats\n",
    "import matplotlib.lines as mlines\n",
    "import matplotlib as mpl\n",
    "mpl.rcParams['font.size'] = 16\n",
    "\n",
    "import sys\n",
    "sys.path.append('../')\n",
    "import funcs\n",
    "\n"
   ]
  },
  {
   "cell_type": "code",
   "execution_count": 3,
   "metadata": {},
   "outputs": [
    {
     "name": "stdout",
     "output_type": "stream",
     "text": [
      "no of vert vel bins:  291\n"
     ]
    }
   ],
   "source": [
    "models = ['CM1', 'dam','ICON_LEM_CRM','ICON_NWP_CRM','MESONH' ,'SAM_CRM', 'SCALE', \n",
    "           'UCLA-CRM','UKMOi-vn11.0-CASIM' , 'UKMOi-vn11.0-RA1-T', \n",
    "          'UKMOi-vn11.0-RA1-T-nocloud','WRF_COL_CRM']\n",
    "\n",
    "m = len(models)\n",
    "cols =  np.load('color_grid.npy', allow_pickle = True)\n",
    "\n",
    "pl = 0.22 # pos limit\n",
    "nlim= -0.07 # neg limit\n",
    "bs = 0.001 # bin size\n",
    "\n",
    "temps = ['large295', 'large300', 'large305']\n",
    "\n",
    "bins = np.arange(nlim, pl, bs) #creates bins\n",
    "b = len(bins)\n",
    "print('no of vert vel bins: ', b)\n",
    "mnbin = [] # create array of the mid-point between bin limits for plotting\n",
    "for i in range(1,b):\n",
    "    mnbin = np.append(mnbin, np.mean([bins[i-1], bins[i]]))"
   ]
  },
  {
   "cell_type": "code",
   "execution_count": 4,
   "metadata": {},
   "outputs": [],
   "source": [
    "#choose model level - all analysis done at 500hPa\n",
    "\n",
    "pLev = 500\n",
    "deltaT = 5"
   ]
  },
  {
   "cell_type": "code",
   "execution_count": 5,
   "metadata": {},
   "outputs": [
    {
     "name": "stdout",
     "output_type": "stream",
     "text": [
      "CM1\n"
     ]
    },
    {
     "name": "stderr",
     "output_type": "stream",
     "text": [
      "/home/users/arm33/RCEMIP/allMod/../funcs.py:120: RuntimeWarning: Mean of empty slice\n",
      "  arrbin = [np.nanmean(arr[dig==i]) for i in range(1,b)]\n"
     ]
    },
    {
     "name": "stdout",
     "output_type": "stream",
     "text": [
      "-0.14696530286305473 0.1310530835137402\n",
      "0.004213639554707177 0.04217776165144234\n",
      "dam\n",
      "0.02630774557845611 -0.02003295124841226\n",
      "0.03575136963591652 -0.03679196976052028\n",
      "ICON_LEM_CRM\n",
      "0.16086336115490468 -0.14322901820127304\n",
      "0.1611393077195911 -0.12817565951308524\n",
      "ICON_NWP_CRM\n",
      "0.3869077127751786 -0.2780306515681995\n",
      "0.03649288217873302 -0.009858593657743641\n",
      "MESONH\n",
      "-0.011838760568374008 -0.010279033629238654\n",
      "MESONHexceeds min\n",
      "1.148882426059264 -1.7421088251948755\n",
      "SAM_CRM\n",
      "-0.15638102203940218 0.25469692638830277\n",
      "0.023138291374404967 -0.02224433293335819\n",
      "SCALE\n",
      "-0.01244253800972379 0.014160019144775049\n",
      "-0.013380345359408125 0.014745176565205098\n",
      "UCLA-CRM\n",
      "0.04851253068431458 -0.2691991820417502\n",
      "0.08292892744373687 -0.23515739628020071\n",
      "UKMOi-vn11.0-CASIM\n",
      "-0.06761244905996179 0.1537075230880645\n",
      "0.022602873804934337 -0.02705799788418196\n",
      "UKMOi-vn11.0-RA1-T\n",
      "-0.29691360165704717 0.3403492549589755\n",
      "-0.2482662328489016 0.3338399726791786\n",
      "UKMOi-vn11.0-RA1-T-nocloud\n",
      "-0.22529999133692816 0.3477695011971127\n",
      "-0.166391161896494 0.31115948896509404\n",
      "WRF_COL_CRM\n",
      "0.1361375335216267 -0.12178069047456938\n",
      "0.15135253222309322 -0.18924903045205468\n"
     ]
    }
   ],
   "source": [
    "directLW, decomposedLW = np.empty((2, m)),np.empty((2, m))\n",
    "directSW, decomposedSW = np.empty((2, m)),np.empty((2, m))\n",
    "k=0\n",
    "for model in models:\n",
    "    print(model)\n",
    "    dp = '/home/users/arm33/RCEMIP/'+ model +'/processed_new/3D/'\n",
    "    dp3 = '/home/users/arm33/RCEMIP/'+ model +'/processed_new/2D/large'\n",
    "\n",
    "    for i in range(3): # loop over temperatures to get the wa fields\n",
    "        pa = np.load(dp + temps[i] + 'pa_profile_25d.npy', allow_pickle = True)/100\n",
    "        if i==0:\n",
    "            wa500_alltemp = np.empty((3,np.shape(pa)[0],np.shape(pa)[2], np.shape(pa)[3]))\n",
    "        wa = np.load(dp + temps[i] + 'wa_profile_25d.npy', allow_pickle = True)\n",
    "        wa500 = funcs.getPlevel(wa, pa, pLev)             \n",
    "\n",
    "        #stack up wa500 for use in dynamic effect\n",
    "        wa500_alltemp[i,] = wa500  \n",
    "\n",
    "        if i==1 or i==2:\n",
    "            if i==1:\n",
    "                con,new = '295', '300'\n",
    "                marker = 'o'\n",
    "\n",
    "            if i ==2:\n",
    "                con,new = '300', '305'\n",
    "                marker = 's'\n",
    "\n",
    "\n",
    "            #calc dynamic effect with 3D data\n",
    "            lwcrf1 = np.load(dp3 + con + 'lwcrf24hrs.npy', allow_pickle = True)\n",
    "            lwcrf2 = np.load(dp3 + new + 'lwcrf24hrs.npy', allow_pickle = True)\n",
    "\n",
    "            swcrf1 =  np.load(dp3 + con + 'swcrf24hrs.npy', allow_pickle = True)\n",
    "            swcrf2 =  np.load(dp3  + new + 'swcrf24hrs.npy', allow_pickle = True)\n",
    "\n",
    "            net1 = lwcrf1 + swcrf1\n",
    "            net2 = lwcrf2 + swcrf2 \n",
    "\n",
    "            wa5001 = wa500_alltemp[i-1,]\n",
    "            wa5002 = wa500_alltemp[i,]\n",
    "            if np.max(wa5001) > pl or np.max(wa5002) > pl:\n",
    "                print(model + ' exceeds max')\n",
    "            if np.min(wa5001) < nlim or np.min(wa5002) < nlim:\n",
    "                print(model + 'exceeds min')\n",
    "                \n",
    "            #control functions\n",
    "            dig1 = np.digitize(wa5001, bins)\n",
    "            A1 = funcs.createA(dig1, b)\n",
    "            LW1 = funcs.createR(lwcrf1, dig1, b)\n",
    "            LW1 = funcs.rpTrailingZeros(A1, LW1)\n",
    "            SW1 = funcs.createR(swcrf1, dig1, b)\n",
    "            SW1 = funcs.rpTrailingZeros(A1, SW1)\n",
    "            NET1 = funcs.createR(net1, dig1, b)\n",
    "            NET1 = funcs.rpTrailingZeros(A1, NET1) \n",
    "\n",
    "            #new functions\n",
    "            dig2 = np.digitize(wa5002, bins)\n",
    "            A2 = funcs.createA(dig2, b)\n",
    "            LW2 = funcs.createR(lwcrf2, dig2, b)\n",
    "            LW2 = funcs.rpTrailingZeros(A2, LW2)\n",
    "            SW2 = funcs.createR(swcrf2, dig2, b)\n",
    "            SW2 = funcs.rpTrailingZeros(A2, SW2)\n",
    "            NET2 = funcs.createR(net2, dig2, b)\n",
    "            NET2 = funcs.rpTrailingZeros(A2, NET2)\n",
    "\n",
    "            dLW = LW2 - LW1\n",
    "            dSW = SW2 - SW1\n",
    "            dNET = NET2 - NET1\n",
    "            dA = A2 - A1\n",
    "\n",
    "            totLW,th,LWdyn,nl = funcs.decompose(A1, A2, LW1, LW2, deltaT)\n",
    "            totSW,th,SWdyn,nl = funcs.decompose(A1, A2, SW1, SW2, deltaT)\n",
    "            #tot,th,NETdyn,nl = funcs.decompose(A1, A2, NET1, NET2, deltaT) \n",
    "            print(LWdyn, SWdyn)\n",
    "\n",
    "            # direct calcuation of cloud feedback\n",
    "            directLW[i-1,k] = (np.mean(lwcrf2) - np.mean(lwcrf1))/deltaT\n",
    "            decomposedLW[i-1,k] = totLW\n",
    "            directSW[i-1,k] = (np.mean(swcrf2) - np.mean(swcrf1))/deltaT\n",
    "            decomposedSW[i-1,k] = totSW\n",
    "                \n",
    "    k+=1\n"
   ]
  },
  {
   "cell_type": "code",
   "execution_count": 30,
   "metadata": {},
   "outputs": [
    {
     "name": "stdout",
     "output_type": "stream",
     "text": [
      "LW mean difference:  -0.010028818324425747\n",
      "LW range of differences:  -0.03903419260824936 6.661338147750939e-16\n",
      "RMSE:  0.015476553117721698\n"
     ]
    }
   ],
   "source": [
    "difference = decomposedLW - directLW\n",
    "print('LW mean difference: ', np.mean(difference))\n",
    "print('LW range of differences: ', np.min(difference), np.max(difference))\n",
    "print('RMSE: ', funcs.calcRMSE(decomposedLW, directLW))"
   ]
  },
  {
   "cell_type": "code",
   "execution_count": 31,
   "metadata": {},
   "outputs": [
    {
     "name": "stdout",
     "output_type": "stream",
     "text": [
      "SW mean difference:  0.01449338685045761\n",
      "SW range of differences:  -3.469446951953614e-16 0.05774823170323562\n",
      "RMSE:  0.022306103034159794\n"
     ]
    }
   ],
   "source": [
    "difference = decomposedSW - directSW\n",
    "print('SW mean difference: ', np.mean(difference))\n",
    "print('SW range of differences: ', np.min(difference), np.max(difference))\n",
    "print('RMSE: ', funcs.calcRMSE(decomposedSW, directSW))"
   ]
  },
  {
   "cell_type": "code",
   "execution_count": null,
   "metadata": {},
   "outputs": [],
   "source": []
  }
 ],
 "metadata": {
  "kernelspec": {
   "display_name": "Python 3 + Jaspy",
   "language": "python",
   "name": "jaspy"
  },
  "language_info": {
   "codemirror_mode": {
    "name": "ipython",
    "version": 3
   },
   "file_extension": ".py",
   "mimetype": "text/x-python",
   "name": "python",
   "nbconvert_exporter": "python",
   "pygments_lexer": "ipython3",
   "version": "3.10.5"
  }
 },
 "nbformat": 4,
 "nbformat_minor": 4
}
