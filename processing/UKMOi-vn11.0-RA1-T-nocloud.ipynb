{
 "cells": [
  {
   "cell_type": "markdown",
   "id": "5a5bb49c-62aa-4e03-83cb-95fa04917ff3",
   "metadata": {},
   "source": [
    "# UKMO RA1-T-nocloud time and spatial averaging\n",
    "Anna Mackie, 2022\n",
    "\n",
    "Processing for long channel simulations from CM1. Three SSTs (295, 300 and 305K). Please see Wing et al. (2018) for simulation and variable descriptions.\n",
    "\n",
    "This script, for different data:\n",
    "- reads in data from CEDA archive\n",
    "- takes the average over 24 hours and 32 x 32 grid points (equivilent to 96 km x 96km). NB last blocks may have more grid points to ensure all grid points used\n",
    "- saves as npy files\n",
    "\n",
    "This is done for a number of variables. The code is grouped for\n",
    "1. 2D variables\n",
    "2. 3D variables\n",
    "3. Cloud fraction\n",
    "\n",
    "Cloud fraction follows the method of Wing et al., (2020) which uses a threshold value for cloud condensate."
   ]
  },
  {
   "cell_type": "code",
   "execution_count": 1,
   "id": "1dbaa948-cd30-487e-957b-19ce355fdc14",
   "metadata": {},
   "outputs": [
    {
     "name": "stdout",
     "output_type": "stream",
     "text": [
      "/home/users/arm33/nb-venvs/metpy_venv/lib/python3.10/site-packages/metpy/__init__.py\n"
     ]
    }
   ],
   "source": [
    "# activate virtual environmnet required for metpy\n",
    "import sys\n",
    "import pathlib\n",
    "import platform\n",
    "venv_path = '~/nb-venvs/metpy_venv'\n",
    "sys.path.append(str(pathlib.Path(f'{venv_path}/lib/python{platform.python_version_tuple()[0]}.{platform.python_version_tuple()[1]}/site-packages/').expanduser()))\n",
    "\n",
    "import metpy\n",
    "print(metpy.__file__)"
   ]
  },
  {
   "cell_type": "code",
   "execution_count": 9,
   "id": "5a3b7064-112a-467e-97e1-0e431de7da2d",
   "metadata": {},
   "outputs": [],
   "source": [
    "import numpy as np\n",
    "import numpy.ma as ma\n",
    "import matplotlib.pyplot as plt\n",
    "from netCDF4 import Dataset\n",
    "from metpy.calc import saturation_mixing_ratio\n",
    "from metpy.units import units\n",
    "import numpy.ma as ma\n",
    "import os\n",
    "import sys\n",
    "sys.path.append('../../')\n",
    "import funcs\n",
    "\n"
   ]
  },
  {
   "cell_type": "markdown",
   "id": "e6730b83-f9b3-48a9-9539-7cb1af173e83",
   "metadata": {},
   "source": [
    "## Model specific inputs\n",
    "Different models have slightly different set ups (eg grid points, file names etc)\n",
    "\n",
    "'Blocks' refer to the grid post-spatial averaging"
   ]
  },
  {
   "cell_type": "code",
   "execution_count": 10,
   "id": "9d237002-0b0b-4019-9e17-53b0e2ed2e9f",
   "metadata": {},
   "outputs": [],
   "source": [
    "# model specific inputs\n",
    "model = 'UKMOi-vn11.0-RA1-T-nocloud' #in this model, time is in hours, with 24 hours to a file\n",
    "\n",
    "#temp labels\n",
    "temps =  ['large295', 'large300', 'large305']"
   ]
  },
  {
   "cell_type": "code",
   "execution_count": 4,
   "id": "30a1440b-c7eb-4dcb-b6d7-01b6348ef894",
   "metadata": {},
   "outputs": [
    {
     "name": "stdout",
     "output_type": "stream",
     "text": [
      "4 98 144 2016\n"
     ]
    }
   ],
   "source": [
    "#read in sample nc file to get dimensions\n",
    "datapath3D = '/badc/rcemip/data/'+ model +'/RCE_' + temps[0]+ '/3D/'\n",
    "nc_ta = Dataset(datapath3D + model + '_RCE_' + temps[0] + '_3D_10000330_00.nc')\n",
    "ta = nc_ta.variables['ta'][:]\n",
    "tsize, levsize , ysize, xsize = np.shape(ta) # UCLA has levels in 4th dimension\n",
    "nc_ta.close()\n",
    "print(tsize, levsize, ysize, xsize)\n"
   ]
  },
  {
   "cell_type": "code",
   "execution_count": null,
   "id": "f20121e2-a787-4546-b78d-83242a1a2c86",
   "metadata": {},
   "outputs": [],
   "source": [
    "#set time, levels, x and y dimensions\n",
    "tsize, levsize, ysize, xsize = 4, 98, 144, 2016"
   ]
  },
  {
   "cell_type": "markdown",
   "id": "2c10536d-adc1-45db-b10a-a65393e811ea",
   "metadata": {},
   "source": [
    "## Parameters for all models"
   ]
  },
  {
   "cell_type": "code",
   "execution_count": 11,
   "id": "6adfe3d2-d3cc-4e4c-96d2-797e72d86d88",
   "metadata": {},
   "outputs": [],
   "source": [
    "bk = 32 # number of x/y gridpoints in a block\n",
    "nodays = 25 # number of days\n"
   ]
  },
  {
   "cell_type": "code",
   "execution_count": 12,
   "id": "a15c2ebd-e770-46e8-bc56-2018e873a5e0",
   "metadata": {},
   "outputs": [
    {
     "name": "stdout",
     "output_type": "stream",
     "text": [
      "no blocks in x direction:  63 ; no in y direction:  4\n"
     ]
    }
   ],
   "source": [
    "# set up spaitial averaging\n",
    "x_orig = np.arange(xsize) # total number of x points (rows)\n",
    "y_orig = np.arange(ysize) # total number of y points (columns)\n",
    "\n",
    "ny = int(len(y_orig)/bk) # number of x/y blocks in the grid\n",
    "y_new = np.arange(ny*bk)\n",
    "ybk = np.asarray(np.split(y_new, ny))\n",
    "\n",
    "nx = int(len(x_orig)/bk) # number of x/y blocks in the grid\n",
    "x_new = np.arange(nx*bk)\n",
    "xbk = np.asarray(np.split(x_new, nx))\n",
    "print('no blocks in x direction: ', nx, '; no in y direction: ',ny)\n"
   ]
  },
  {
   "cell_type": "markdown",
   "id": "3e83e251-d046-4b6c-aeb2-6075c18cbd9b",
   "metadata": {},
   "source": [
    "## 2D data\n",
    "\n",
    "- lwcrf - longwave cloud radiative effect, calculated from rlut (outgoing longwave radiation, all sky) and rlutcs (clear sky)\n",
    "- swcrf - as above, but for shortwave\n",
    "- pr - surface precipitation rate\n",
    "- tas - near surface air temperature"
   ]
  },
  {
   "cell_type": "code",
   "execution_count": 13,
   "id": "453915ff-8caf-4205-9f65-486a59679da9",
   "metadata": {},
   "outputs": [
    {
     "name": "stdout",
     "output_type": "stream",
     "text": [
      "takes the average over 25 periods of 24 hour averages\n"
     ]
    }
   ],
   "source": [
    "#time params for 2D data\n",
    "#set time params\n",
    "ts = 24 # number of hours want to integrate over\n",
    "nd = int(nodays*ts)\n",
    "totalt = np.arange(nd)# total number of hours \n",
    "tbk = np.asarray(np.split(totalt, nodays))\n",
    "print('takes the average over ' + str(nodays) + ' periods of ' + str(ts)+ ' hour averages')    "
   ]
  },
  {
   "cell_type": "code",
   "execution_count": 14,
   "id": "a5bd6f6f-2841-43ec-b619-7e880a81943f",
   "metadata": {},
   "outputs": [
    {
     "name": "stdout",
     "output_type": "stream",
     "text": [
      "total number of blocks:  6300\n",
      "large295done\n",
      "total number of blocks:  6300\n",
      "large300done\n",
      "total number of blocks:  6300\n",
      "large305done\n"
     ]
    }
   ],
   "source": [
    "dp = '/home/users/arm33/RCEMIP/'+ model + '/processed_new'\n",
    "\n",
    "temps = ['large295','large300', 'large305']\n",
    "for temp in temps:\n",
    "\n",
    "    datapath ='/badc/rcemip/data/'+ model + '/RCE_' + temp + '/2D/'\n",
    "    datalist = sorted(os.listdir(datapath))\n",
    "    datalist = datalist[-nodays:] # last 25 days\n",
    "    d = len(datalist)\n",
    "    print('total number of blocks: ', nx*ny*d)\n",
    "    for t in range(d):\n",
    "        fn = datapath + datalist[t]\n",
    "        nc = Dataset(fn)\n",
    "        \n",
    "        lwcrf = nc.variables['rlutcs'][:] - nc.variables['rlut'][:]\n",
    "        swcrf = nc.variables['rsutcs'][:] - nc.variables['rsut'][:]\n",
    "        \n",
    "        pr = nc.variables['pr'][:]\n",
    "        nc.close()\n",
    "        #take mean over that day and spatial blocks\n",
    "        lwcrf_bk, swcrf_bk= np.empty((ny, nx)), np.empty((ny, nx)) \n",
    "        pr_bk= np.empty((ny, nx))\n",
    "        for i in range(ny):\n",
    "                if i == ny-1: # check if it's the last block, if yes then use all remaining gridpoints\n",
    "                    endy = y_orig[-1]+1\n",
    "                else:\n",
    "                    endy = ybk[i,-1]+1\n",
    "                for j in range(nx): # ditto\n",
    "                    if j == nx-1:\n",
    "                        endx = x_orig[-1]+1\n",
    "                    else:\n",
    "                        endx = xbk[j,-1]+1\n",
    "\n",
    "                    lwcrf_bk[i,j] = np.nanmean(lwcrf[:,  ybk[i,0]:endy, xbk[j,0]: endx])\n",
    "                    swcrf_bk[i,j] = np.nanmean(swcrf[:,  ybk[i,0]:endy, xbk[j,0]: endx])\n",
    "                    pr_bk[i,j] = np.nanmean(pr[:,  ybk[i,0]:endy, xbk[j,0]: endx])\n",
    "        if t==0:\n",
    "            lwcrf_mn = lwcrf_bk\n",
    "            swcrf_mn = swcrf_bk\n",
    "            pr_mn = pr_bk\n",
    "        else:\n",
    "            lwcrf_mn = np.dstack((lwcrf_mn, lwcrf_bk))\n",
    "            swcrf_mn = np.dstack((swcrf_mn, swcrf_bk))\n",
    "            pr_mn = np.dstack((pr_mn, pr_bk))\n",
    "\n",
    "    lwcrf_mn = funcs.sortOut(lwcrf_mn)\n",
    "    swcrf_mn = funcs.sortOut(swcrf_mn)    \n",
    "    pr_mn = funcs.sortOut(pr_mn)\n",
    "    \n",
    "    lwcrf_mn.dump(dp + '/2D/'+ temp + 'lwcrf' + str(ts) + 'hrs.npy')\n",
    "    swcrf_mn.dump(dp + '/2D/'+ temp + 'swcrf' + str(ts) + 'hrs.npy')\n",
    "    pr_mn.dump(dp + '/2D/'+ temp + 'pr' + str(ts) + 'hrs.npy')\n",
    "    print(temp + 'done')"
   ]
  },
  {
   "cell_type": "markdown",
   "id": "cf930574-add2-475a-bf7f-cb368f7d5f8f",
   "metadata": {
    "tags": []
   },
   "source": [
    "## 3D data\n",
    "\n",
    "Note that the 3D data is 6 hourly, so require different time parameters\n",
    "\n",
    "- ua - eastward wind velocity\n",
    "- va - northward wind velocity\n",
    "- wa - vertical velocity\n",
    "- pa - pressure\n",
    "- cli - mass fraction of cloud liqid ice\n",
    "- clw - mass fraction of cloud liquid water\n",
    "- hus - specific humidity\n",
    "- hur - relative humidity\n",
    "- tntr - tendency of air temperature due to radiative heating\n",
    "- ta - atmospheric temperature"
   ]
  },
  {
   "cell_type": "code",
   "execution_count": 6,
   "id": "49cf5ba8-818a-4bb5-9f83-71861a4c59bb",
   "metadata": {
    "tags": []
   },
   "outputs": [
    {
     "name": "stdout",
     "output_type": "stream",
     "text": [
      "takes the average over 25 periods of 4 hour averages\n"
     ]
    }
   ],
   "source": [
    "#time params for 3D data\n",
    "ts = 4 # number of timesteps want to integrate over\n",
    "nd = int(nodays*ts)\n",
    "totalt = np.arange(nd)# total number of timesteps \n",
    "tbk = np.asarray(np.split(totalt, nodays))\n",
    "print('takes the average over ' + str(nodays) + ' periods of ' + str(ts)+ ' hour averages')    "
   ]
  },
  {
   "cell_type": "code",
   "execution_count": 7,
   "id": "8bc01814-396c-4893-97c4-1ef11f717b5b",
   "metadata": {},
   "outputs": [
    {
     "name": "stdout",
     "output_type": "stream",
     "text": [
      "ua large305\n"
     ]
    },
    {
     "ename": "KeyboardInterrupt",
     "evalue": "",
     "output_type": "error",
     "traceback": [
      "\u001b[0;31m---------------------------------------------------------------------------\u001b[0m",
      "\u001b[0;31mKeyboardInterrupt\u001b[0m                         Traceback (most recent call last)",
      "\u001b[0;32m<ipython-input-7-ea4eb8456a5a>\u001b[0m in \u001b[0;36m<module>\u001b[0;34m\u001b[0m\n\u001b[1;32m     30\u001b[0m                         \u001b[0mendx\u001b[0m \u001b[0;34m=\u001b[0m \u001b[0mxbk\u001b[0m\u001b[0;34m[\u001b[0m\u001b[0mj\u001b[0m\u001b[0;34m,\u001b[0m\u001b[0;34m-\u001b[0m\u001b[0;36m1\u001b[0m\u001b[0;34m]\u001b[0m\u001b[0;34m+\u001b[0m\u001b[0;36m1\u001b[0m\u001b[0;34m\u001b[0m\u001b[0;34m\u001b[0m\u001b[0m\n\u001b[1;32m     31\u001b[0m                     \u001b[0;32mfor\u001b[0m \u001b[0mk\u001b[0m \u001b[0;32min\u001b[0m \u001b[0mrange\u001b[0m\u001b[0;34m(\u001b[0m\u001b[0mlevsize\u001b[0m\u001b[0;34m)\u001b[0m\u001b[0;34m:\u001b[0m\u001b[0;34m\u001b[0m\u001b[0;34m\u001b[0m\u001b[0m\n\u001b[0;32m---> 32\u001b[0;31m                         \u001b[0mvar_bk\u001b[0m\u001b[0;34m[\u001b[0m\u001b[0mt\u001b[0m\u001b[0;34m,\u001b[0m\u001b[0mk\u001b[0m\u001b[0;34m,\u001b[0m\u001b[0mi\u001b[0m\u001b[0;34m,\u001b[0m\u001b[0mj\u001b[0m\u001b[0;34m]\u001b[0m \u001b[0;34m=\u001b[0m \u001b[0mnp\u001b[0m\u001b[0;34m.\u001b[0m\u001b[0mnanmean\u001b[0m\u001b[0;34m(\u001b[0m\u001b[0mvar_full\u001b[0m\u001b[0;34m[\u001b[0m\u001b[0mk\u001b[0m\u001b[0;34m,\u001b[0m \u001b[0mybk\u001b[0m\u001b[0;34m[\u001b[0m\u001b[0mi\u001b[0m\u001b[0;34m,\u001b[0m\u001b[0;36m0\u001b[0m\u001b[0;34m]\u001b[0m\u001b[0;34m:\u001b[0m\u001b[0mendy\u001b[0m\u001b[0;34m,\u001b[0m \u001b[0mxbk\u001b[0m\u001b[0;34m[\u001b[0m\u001b[0mj\u001b[0m\u001b[0;34m,\u001b[0m\u001b[0;36m0\u001b[0m\u001b[0;34m]\u001b[0m\u001b[0;34m:\u001b[0m \u001b[0mendx\u001b[0m\u001b[0;34m]\u001b[0m\u001b[0;34m)\u001b[0m\u001b[0;34m\u001b[0m\u001b[0;34m\u001b[0m\u001b[0m\n\u001b[0m\u001b[1;32m     33\u001b[0m \u001b[0;34m\u001b[0m\u001b[0m\n\u001b[1;32m     34\u001b[0m \u001b[0;34m\u001b[0m\u001b[0m\n",
      "\u001b[0;32m<__array_function__ internals>\u001b[0m in \u001b[0;36mnanmean\u001b[0;34m(*args, **kwargs)\u001b[0m\n",
      "\u001b[0;32m~/nb-venvs/venv-notebook/lib/python3.7/site-packages/numpy/lib/nanfunctions.py\u001b[0m in \u001b[0;36mnanmean\u001b[0;34m(a, axis, dtype, out, keepdims)\u001b[0m\n\u001b[1;32m    935\u001b[0m \u001b[0;34m\u001b[0m\u001b[0m\n\u001b[1;32m    936\u001b[0m     \"\"\"\n\u001b[0;32m--> 937\u001b[0;31m     \u001b[0marr\u001b[0m\u001b[0;34m,\u001b[0m \u001b[0mmask\u001b[0m \u001b[0;34m=\u001b[0m \u001b[0m_replace_nan\u001b[0m\u001b[0;34m(\u001b[0m\u001b[0ma\u001b[0m\u001b[0;34m,\u001b[0m \u001b[0;36m0\u001b[0m\u001b[0;34m)\u001b[0m\u001b[0;34m\u001b[0m\u001b[0;34m\u001b[0m\u001b[0m\n\u001b[0m\u001b[1;32m    938\u001b[0m     \u001b[0;32mif\u001b[0m \u001b[0mmask\u001b[0m \u001b[0;32mis\u001b[0m \u001b[0;32mNone\u001b[0m\u001b[0;34m:\u001b[0m\u001b[0;34m\u001b[0m\u001b[0;34m\u001b[0m\u001b[0m\n\u001b[1;32m    939\u001b[0m         \u001b[0;32mreturn\u001b[0m \u001b[0mnp\u001b[0m\u001b[0;34m.\u001b[0m\u001b[0mmean\u001b[0m\u001b[0;34m(\u001b[0m\u001b[0marr\u001b[0m\u001b[0;34m,\u001b[0m \u001b[0maxis\u001b[0m\u001b[0;34m=\u001b[0m\u001b[0maxis\u001b[0m\u001b[0;34m,\u001b[0m \u001b[0mdtype\u001b[0m\u001b[0;34m=\u001b[0m\u001b[0mdtype\u001b[0m\u001b[0;34m,\u001b[0m \u001b[0mout\u001b[0m\u001b[0;34m=\u001b[0m\u001b[0mout\u001b[0m\u001b[0;34m,\u001b[0m \u001b[0mkeepdims\u001b[0m\u001b[0;34m=\u001b[0m\u001b[0mkeepdims\u001b[0m\u001b[0;34m)\u001b[0m\u001b[0;34m\u001b[0m\u001b[0;34m\u001b[0m\u001b[0m\n",
      "\u001b[0;32m~/nb-venvs/venv-notebook/lib/python3.7/site-packages/numpy/lib/nanfunctions.py\u001b[0m in \u001b[0;36m_replace_nan\u001b[0;34m(a, val)\u001b[0m\n\u001b[1;32m    100\u001b[0m         \u001b[0mmask\u001b[0m \u001b[0;34m=\u001b[0m \u001b[0mnp\u001b[0m\u001b[0;34m.\u001b[0m\u001b[0mnot_equal\u001b[0m\u001b[0;34m(\u001b[0m\u001b[0ma\u001b[0m\u001b[0;34m,\u001b[0m \u001b[0ma\u001b[0m\u001b[0;34m,\u001b[0m \u001b[0mdtype\u001b[0m\u001b[0;34m=\u001b[0m\u001b[0mbool\u001b[0m\u001b[0;34m)\u001b[0m\u001b[0;34m\u001b[0m\u001b[0;34m\u001b[0m\u001b[0m\n\u001b[1;32m    101\u001b[0m     \u001b[0;32melif\u001b[0m \u001b[0missubclass\u001b[0m\u001b[0;34m(\u001b[0m\u001b[0ma\u001b[0m\u001b[0;34m.\u001b[0m\u001b[0mdtype\u001b[0m\u001b[0;34m.\u001b[0m\u001b[0mtype\u001b[0m\u001b[0;34m,\u001b[0m \u001b[0mnp\u001b[0m\u001b[0;34m.\u001b[0m\u001b[0minexact\u001b[0m\u001b[0;34m)\u001b[0m\u001b[0;34m:\u001b[0m\u001b[0;34m\u001b[0m\u001b[0;34m\u001b[0m\u001b[0m\n\u001b[0;32m--> 102\u001b[0;31m         \u001b[0mmask\u001b[0m \u001b[0;34m=\u001b[0m \u001b[0mnp\u001b[0m\u001b[0;34m.\u001b[0m\u001b[0misnan\u001b[0m\u001b[0;34m(\u001b[0m\u001b[0ma\u001b[0m\u001b[0;34m)\u001b[0m\u001b[0;34m\u001b[0m\u001b[0;34m\u001b[0m\u001b[0m\n\u001b[0m\u001b[1;32m    103\u001b[0m     \u001b[0;32melse\u001b[0m\u001b[0;34m:\u001b[0m\u001b[0;34m\u001b[0m\u001b[0;34m\u001b[0m\u001b[0m\n\u001b[1;32m    104\u001b[0m         \u001b[0mmask\u001b[0m \u001b[0;34m=\u001b[0m \u001b[0;32mNone\u001b[0m\u001b[0;34m\u001b[0m\u001b[0;34m\u001b[0m\u001b[0m\n",
      "\u001b[0;32m~/nb-venvs/venv-notebook/lib/python3.7/site-packages/numpy/ma/core.py\u001b[0m in \u001b[0;36m__array_finalize__\u001b[0;34m(self, obj)\u001b[0m\n\u001b[1;32m   2973\u001b[0m         \u001b[0;32mreturn\u001b[0m\u001b[0;34m\u001b[0m\u001b[0;34m\u001b[0m\u001b[0m\n\u001b[1;32m   2974\u001b[0m \u001b[0;34m\u001b[0m\u001b[0m\n\u001b[0;32m-> 2975\u001b[0;31m     \u001b[0;32mdef\u001b[0m \u001b[0m__array_finalize__\u001b[0m\u001b[0;34m(\u001b[0m\u001b[0mself\u001b[0m\u001b[0;34m,\u001b[0m \u001b[0mobj\u001b[0m\u001b[0;34m)\u001b[0m\u001b[0;34m:\u001b[0m\u001b[0;34m\u001b[0m\u001b[0;34m\u001b[0m\u001b[0m\n\u001b[0m\u001b[1;32m   2976\u001b[0m         \"\"\"\n\u001b[1;32m   2977\u001b[0m         \u001b[0mFinalizes\u001b[0m \u001b[0mthe\u001b[0m \u001b[0mmasked\u001b[0m \u001b[0marray\u001b[0m\u001b[0;34m.\u001b[0m\u001b[0;34m\u001b[0m\u001b[0;34m\u001b[0m\u001b[0m\n",
      "\u001b[0;31mKeyboardInterrupt\u001b[0m: "
     ]
    }
   ],
   "source": [
    "vars = ['ua', 'va', 'pa','cli', 'clw','wa','hus','hur', 'tntr', 'ta']\n",
    "\n",
    "dp = '/home/users/arm33/RCEMIP/'+ model + '/processed_new'\n",
    "\n",
    "\n",
    "for temp in ['large305']:\n",
    "\n",
    "    datapath ='/badc/rcemip/data/'+ model + '/RCE_' + temp + '/3D/'\n",
    "    datalist = sorted(os.listdir(datapath))\n",
    "    datalist = datalist[-nodays:] # last 25 days\n",
    "    d = len(datalist)\n",
    "    for var in vars:\n",
    "        print(var, temp)\n",
    "        var_bk = np.empty((nodays, levsize, ny, nx))        \n",
    "        for t in range(d):\n",
    "            fn = datapath + datalist[t]\n",
    "            nc = Dataset(fn)\n",
    "            var_full = np.mean(nc.variables[var][:],axis = 0)\n",
    "            nc.close()\n",
    "\n",
    "            for i in range(ny):\n",
    "                if i == ny-1: # check if it's the last block, if yes then use all remaining gridpoints\n",
    "                    endy = y_orig[-1]+1\n",
    "                else:\n",
    "                    endy = ybk[i,-1]+1\n",
    "                for j in range(nx): # ditto\n",
    "                    if j == nx-1:\n",
    "                        endx = x_orig[-1]+1\n",
    "                    else:\n",
    "                        endx = xbk[j,-1]+1\n",
    "                    for k in range(levsize):\n",
    "                        var_bk[t,k,i,j] = np.nanmean(var_full[k, ybk[i,0]:endy, xbk[j,0]: endx])\n",
    "\n",
    "\n",
    "\n",
    "        var_bk.dump(dp + '/3D/'+ temp + var + '_profile_25d.npy')\n",
    "        \n",
    "\n"
   ]
  },
  {
   "cell_type": "markdown",
   "id": "f7ca3255-e1aa-43b3-8891-dc9bd79efe34",
   "metadata": {
    "tags": []
   },
   "source": [
    "## Cloud fraction\n",
    "\n",
    "This follows the procedure described in Wing et al., 2020\n",
    "\n",
    "1. Read in clw, cli ta and pa for each day (four time steps)\n",
    "2. Take the mean for that 24 hours\n",
    "3. Calculate the saturation mixing ratio and the cloud condensate (= cli + clw)\n",
    "4. for each 32 x 32 block, calculate the proportion of points where either the cloud condensate is grater than 0.00001, or greater than the 0.01 x the saturation mixing ratio"
   ]
  },
  {
   "cell_type": "code",
   "execution_count": 9,
   "id": "c5c2a208-753d-4e50-83b0-93a1e6a9baf2",
   "metadata": {
    "tags": []
   },
   "outputs": [
    {
     "name": "stdout",
     "output_type": "stream",
     "text": [
      "takes the average over 25 periods of 4 hour averages\n"
     ]
    }
   ],
   "source": [
    "#time params for 3D data\n",
    "ts = 4 # number of timesteps want to integrate over\n",
    "nd = int(nodays*ts)\n",
    "totalt = np.arange(nd)# total number of timesteps \n",
    "tbk = np.asarray(np.split(totalt, nodays))\n",
    "print('takes the average over ' + str(nodays) + ' periods of ' + str(ts)+ ' hour averages')    "
   ]
  },
  {
   "cell_type": "code",
   "execution_count": 8,
   "id": "f49cc160-6537-407a-925e-878ec2644142",
   "metadata": {},
   "outputs": [
    {
     "name": "stdout",
     "output_type": "stream",
     "text": [
      "(25, 98, 144, 2016) (25, 98, 144, 2016)\n",
      "0\n",
      "1\n",
      "2\n",
      "3\n",
      "4\n",
      "5\n",
      "6\n",
      "7\n",
      "8\n",
      "9\n",
      "10\n",
      "11\n",
      "12\n",
      "13\n",
      "14\n",
      "15\n",
      "16\n",
      "17\n",
      "18\n",
      "19\n",
      "20\n",
      "21\n",
      "22\n",
      "23\n",
      "24\n"
     ]
    }
   ],
   "source": [
    "#cloud fraction\n",
    "dp = '/home/users/arm33/RCEMIP/'+ model + '/processed_new'  \n",
    "nd = nodays*ts\n",
    "for temp in temps:\n",
    "\n",
    "    datapath = '/badc/rcemip/data/'+ model +'/RCE_' + temp + '/3D/'\n",
    "    datalist = sorted(os.listdir(datapath))\n",
    "    datalist = datalist[-nd:] # last 25 days\n",
    "    d = len(datalist)\n",
    "\n",
    "    satmixr =np.empty((nodays, levsize,len(y_orig), len(x_orig) ))\n",
    "    cloudcon = np.empty((nodays, levsize,len(y_orig), len(x_orig) ))\n",
    "    counter =0\n",
    "    for t in range(d):\n",
    "        fn = datapath + datalist[t]\n",
    "        nc = Dataset(fn)\n",
    "        clwf = np.mean(nc.variables['clw'][:], axis = 0)\n",
    "        clif = np.mean(nc.variables['cli'][:], axis = 0)\n",
    "        paf = np.mean(nc.variables['pa'][:], axis = 0)\n",
    "        taf = np.mean(nc.variables['ta'][:], axis = 0)\n",
    "        nc.close()\n",
    "\n",
    "        pa = np.asarray(paf) * units.pascal\n",
    "        ta = np.asarray(taf) * units.K\n",
    "\n",
    "        satmixr[counter,] = metpy.calc.saturation_mixing_ratio(pa, ta)\n",
    "        cloudcon[counter, ]= clwf + clif\n",
    "        counter+=1\n",
    "    print(np.shape(satmixr), np.shape(cloudcon))\n",
    "\n",
    "\n",
    "    cldfrac = np.zeros((nodays, levsize, ny, nx))\n",
    "    for t in range(nodays):\n",
    "        print(t)\n",
    "        for k in range(levsize):\n",
    "            for i in range(ny):\n",
    "                if i == ny-1: # check if it's the last block, if yes then use all remaining gridpoints\n",
    "                    endy = y_orig[-1]+1\n",
    "                else:\n",
    "                    endy = ybk[i,-1]+1\n",
    "                for j in range(nx): # ditto\n",
    "                    if j == nx-1:\n",
    "                        endx = x_orig[-1]+1\n",
    "                    else:\n",
    "                        endx = xbk[j,-1]+1\n",
    "\n",
    "                    cc = cloudcon[t,k, ybk[i,0]:endy, xbk[j,0]: endx].flatten()\n",
    "                    sm = satmixr[t,k, ybk[i,0]:endy, xbk[j,0]: endx].flatten()\n",
    "                    no_grid_points = len(sm)\n",
    "                    count = 0\n",
    "                    for r in range(no_grid_points):\n",
    "                        if cc[r] > 0.00001:\n",
    "                            count +=1\n",
    "                        elif cc[r] > 0.01*sm[r]:\n",
    "                            count +=1 \n",
    "\n",
    "                    cldfrac[t,k, i , j ] = count/no_grid_points\n",
    "\n",
    "    cldfrac.dump(dp + '/3D/'+ temp + 'cldfrac_profile_25d.npy')"
   ]
  },
  {
   "cell_type": "code",
   "execution_count": null,
   "id": "bc2e7835-2fcc-4f84-84d5-8014b9fe4549",
   "metadata": {},
   "outputs": [],
   "source": []
  }
 ],
 "metadata": {
  "kernelspec": {
   "display_name": "Python 3 + Jaspy",
   "language": "python",
   "name": "jaspy"
  },
  "language_info": {
   "codemirror_mode": {
    "name": "ipython",
    "version": 3
   },
   "file_extension": ".py",
   "mimetype": "text/x-python",
   "name": "python",
   "nbconvert_exporter": "python",
   "pygments_lexer": "ipython3",
   "version": "3.10.5"
  }
 },
 "nbformat": 4,
 "nbformat_minor": 5
}
