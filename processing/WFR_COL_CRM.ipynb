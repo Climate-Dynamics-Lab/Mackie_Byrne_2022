{
 "cells": [
  {
   "cell_type": "markdown",
   "id": "d462aebd-9e95-4c0b-994e-f8cfffbc0114",
   "metadata": {},
   "source": [
    "# WRF time and spatial averaging\n",
    "Anna Mackie, 2022\n",
    "\n",
    "Processing for long channel simulations from CM1. Three SSTs (295, 300 and 305K). Please see Wing et al. (2018) for simulation and variable descriptions.\n",
    "\n",
    "This script, for different data:\n",
    "- reads in data from CEDA archive\n",
    "- takes the average over 24 hours and 32 x 32 grid points (equivilent to 96 km x 96km). NB last blocks may have more grid points to ensure all grid points used\n",
    "- saves as npy files\n",
    "\n",
    "This is done for a number of variables. The code is grouped for\n",
    "1. 2D variables\n",
    "2. 3D variables\n",
    "3. Cloud fraction\n",
    "\n",
    "Cloud fraction follows the method of Wing et al., (2020) which uses a threshold value for cloud condensate."
   ]
  },
  {
   "cell_type": "code",
   "execution_count": 1,
   "id": "12bdeb22-9fa9-4f81-a2e2-159111e7480b",
   "metadata": {},
   "outputs": [
    {
     "name": "stdout",
     "output_type": "stream",
     "text": [
      "/home/users/arm33/nb-venvs/metpy_venv/lib/python3.10/site-packages/metpy/__init__.py\n"
     ]
    }
   ],
   "source": [
    "# activate virtual environmnet required for metpy\n",
    "import sys\n",
    "import pathlib\n",
    "import platform\n",
    "venv_path = '~/nb-venvs/metpy_venv'\n",
    "sys.path.append(str(pathlib.Path(f'{venv_path}/lib/python{platform.python_version_tuple()[0]}.{platform.python_version_tuple()[1]}/site-packages/').expanduser()))\n",
    "\n",
    "import metpy\n",
    "print(metpy.__file__)"
   ]
  },
  {
   "cell_type": "code",
   "execution_count": 2,
   "id": "23a7381e-cefc-4fc2-a078-780b6b53ff76",
   "metadata": {},
   "outputs": [],
   "source": [
    "import numpy as np\n",
    "import numpy.ma as ma\n",
    "import matplotlib.pyplot as plt\n",
    "from netCDF4 import Dataset\n",
    "import h5py\n",
    "from metpy.calc import saturation_mixing_ratio\n",
    "from metpy.units import units\n",
    "import numpy.ma as ma\n",
    "import os\n",
    "import sys\n",
    "sys.path.append('../../')\n",
    "import funcs\n",
    "\n"
   ]
  },
  {
   "cell_type": "markdown",
   "id": "c7aed2f3-d35d-4f5f-bcea-9721fbd675af",
   "metadata": {},
   "source": [
    "## Model specific inputs\n",
    "Different models have slightly different set ups (eg grid points, file names etc)\n",
    "\n",
    "'Blocks' refer to the grid post-spatial averaging"
   ]
  },
  {
   "cell_type": "code",
   "execution_count": 3,
   "id": "ea6ab504-2078-4230-a376-f0992ca2771d",
   "metadata": {},
   "outputs": [],
   "source": [
    "model = 'WRF_COL_CRM' #in this model, time is in hours, with 24 hours to a file\n",
    "\n",
    "#temp labels\n",
    "temps =  ['large295', 'large300', 'large305']"
   ]
  },
  {
   "cell_type": "code",
   "execution_count": 4,
   "id": "b4b71c0a-0804-4bfc-8284-495e4d1f4a0c",
   "metadata": {},
   "outputs": [
    {
     "name": "stdout",
     "output_type": "stream",
     "text": [
      "100 73 133 1999\n"
     ]
    }
   ],
   "source": [
    "# paramaters for all models\n",
    "bk = 32 # number of x/y gridpoints in a block\n",
    "nodays = 25 # number of days\n",
    "\n",
    "#read in sample nc file to get dimensions\n",
    "datapath3D = '/badc/rcemip/data/'+ model +'/RCE_' + temps[0]+ '/3D/'\n",
    "nc_ta = Dataset(datapath3D + model + '_RCE_' + temps[0] + '_3D.nc')\n",
    "ta = nc_ta.variables['ta'][:]\n",
    "tsize, levsize , ysize, xsize = np.shape(ta) # UCLA has levels in 4th dimension\n",
    "nc_ta.close()\n",
    "print(tsize, levsize, ysize, xsize)\n"
   ]
  },
  {
   "cell_type": "code",
   "execution_count": null,
   "id": "c06d0fdf-a487-46ae-8cda-36e7c7fa622a",
   "metadata": {},
   "outputs": [],
   "source": [
    "#set time, levels, x and y dimensions\n",
    "tsize, levsize, ysize, xsize = 100, 73, 133, 1999"
   ]
  },
  {
   "cell_type": "markdown",
   "id": "de97ecde-c9bb-4940-bb7e-c0668daf3bde",
   "metadata": {},
   "source": [
    "## Parameters for all models"
   ]
  },
  {
   "cell_type": "code",
   "execution_count": 4,
   "id": "0b542312-4ec3-4b81-8411-e3a3a63ed64b",
   "metadata": {},
   "outputs": [],
   "source": [
    "bk = 32 # number of x/y gridpoints in a block\n",
    "nodays = 25 # number of days\n"
   ]
  },
  {
   "cell_type": "code",
   "execution_count": 5,
   "id": "6a37c8f5-0664-442f-a5af-d4a7f1c29578",
   "metadata": {},
   "outputs": [
    {
     "name": "stdout",
     "output_type": "stream",
     "text": [
      "no blocks in x direction:  62 ; no in y direction:  4\n"
     ]
    }
   ],
   "source": [
    "# set up spaitial averaging\n",
    "x_orig = np.arange(xsize) # total number of x points (rows)\n",
    "y_orig = np.arange(ysize) # total number of y points (columns)\n",
    "\n",
    "ny = int(len(y_orig)/bk) # number of x/y blocks in the grid\n",
    "y_new = np.arange(ny*bk)\n",
    "ybk = np.asarray(np.split(y_new, ny))\n",
    "\n",
    "nx = int(len(x_orig)/bk) # number of x/y blocks in the grid\n",
    "x_new = np.arange(nx*bk)\n",
    "xbk = np.asarray(np.split(x_new, nx))\n",
    "print('no blocks in x direction: ', nx, '; no in y direction: ',ny)\n"
   ]
  },
  {
   "cell_type": "markdown",
   "id": "ffc39283-8404-4bb7-88bd-1f626722d0b7",
   "metadata": {},
   "source": [
    "## 2D data\n",
    "\n",
    "- lwcrf - longwave cloud radiative effect, calculated from rlut (outgoing longwave radiation, all sky) and rlutcs (clear sky)\n",
    "- swcrf - as above, but for shortwave\n",
    "- pr - surface precipitation rate\n",
    "- tas - near surface air temperature"
   ]
  },
  {
   "cell_type": "code",
   "execution_count": 6,
   "id": "a40adad0-9706-4471-b4c2-ddc618e258a0",
   "metadata": {},
   "outputs": [
    {
     "name": "stdout",
     "output_type": "stream",
     "text": [
      "takes the average over 25 periods of 24 hour averages\n"
     ]
    }
   ],
   "source": [
    "#time params for 2D data\n",
    "#set time params\n",
    "ts = 24 # number of hours want to integrate over\n",
    "nd = int(nodays*ts)\n",
    "totalt = np.arange(nd)# total number of hours \n",
    "tbk = np.asarray(np.split(totalt, nodays))\n",
    "print('takes the average over ' + str(nodays) + ' periods of ' + str(ts)+ ' hour averages')    "
   ]
  },
  {
   "cell_type": "code",
   "execution_count": 7,
   "id": "03b320db-b917-4678-8ce3-501be4e1ad7d",
   "metadata": {},
   "outputs": [
    {
     "name": "stdout",
     "output_type": "stream",
     "text": [
      "--------large295--------\n",
      "/gws/nopw/j04/circulates_vol2/RCEMIP/RCEMIP/WRF_COL_CRM/RCE_large295/2D/WRF_COL_CRM_RCE_large295_2D.nc\n",
      "Finished large295\n",
      "--------large300--------\n",
      "/gws/nopw/j04/circulates_vol2/RCEMIP/RCEMIP/WRF_COL_CRM/RCE_large300/2D/WRF_COL_CRM_RCE_large300_2D.nc\n",
      "Finished large300\n",
      "--------large305--------\n",
      "/gws/nopw/j04/circulates_vol2/RCEMIP/RCEMIP/WRF_COL_CRM/RCE_large305/2D/WRF_COL_CRM_RCE_large305_2D.nc\n",
      "Finished large305\n"
     ]
    }
   ],
   "source": [
    "dp = '/home/users/arm33/RCEMIP/'+ model + '/processed_new'\n",
    "\n",
    "for temp in temps:\n",
    "    datapath = '/gws/nopw/j04/circulates_vol2/RCEMIP/RCEMIP/'+model +'/RCE_' + temp + '/2D/'# '/badc/rcemip/data/'+ model +'/RCE_' + temp + '/2D/'\n",
    "    print('--------' + temp + '--------')\n",
    "    nc = Dataset( datapath + model + '_RCE_' + temp + '_2D.nc') \n",
    "    print(datapath + model + '_RCE_' + temp + '_2D.nc')\n",
    "    #print(nc)\n",
    "    lwas_full = nc.variables['rlut'][-nd:,]\n",
    "    lwcs_full = nc.variables['rlutcs'][-nd:,]\n",
    "    swas_full = nc.variables['rsut'][-nd:,]\n",
    "    swcs_full = nc.variables['rsutcs'][-nd:,]\n",
    "    pr_full = nc.variables['pr'][-nd:,]\n",
    "    nc.close()\n",
    "    \n",
    "    lwcrf_full = lwcs_full - lwas_full\n",
    "    swcrf_full = swcs_full - swas_full\n",
    "    \n",
    "    lwcrf_bk, swcrf_bk= np.empty((nodays, ny, nx)), np.empty((nodays, ny, nx)) # crf\n",
    "    pr_bk= np.empty((nodays, ny, nx))\n",
    "    \n",
    "    for t in range(nodays):\n",
    "         for i in range(ny):\n",
    "                if i == ny-1: # check if it's the last block, if yes then use all remaining gridpoints\n",
    "                    endy = y_orig[-1]+1\n",
    "                else:\n",
    "                    endy = ybk[i,-1]+1\n",
    "                for j in range(nx): # ditto\n",
    "                    if j == nx-1:\n",
    "                        endx = x_orig[-1]+1\n",
    "                    else:\n",
    "                        endx = xbk[j,-1]+1\n",
    "                    lwcrf_bk[t, i, j] = np.nanmean(lwcrf_full[tbk[t,0]:tbk[t, -1]+1, ybk[i,0]:endy, xbk[j,0]: endx])\n",
    "                    swcrf_bk[t, i, j] = np.nanmean(swcrf_full[tbk[t,0]:tbk[t, -1]+1, ybk[i,0]:endy, xbk[j,0]: endx])\n",
    "                    pr_bk[t, i, j] = np.nanmean(pr_full[tbk[t,0]:tbk[t, -1]+1, ybk[i,0]:endy, xbk[j,0]: endx])\n",
    "                \n",
    "    lwcrf_bk.dump(dp + '/2D/'+ temp + 'lwcrf' + str(ts) + 'hrs.npy')\n",
    "    swcrf_bk.dump(dp + '/2D/'+ temp + 'swcrf' + str(ts) + 'hrs.npy')\n",
    "    pr_bk.dump(dp + '/2D/'+ temp + 'pr' + str(ts) + 'hrs.npy')\n",
    "            \n",
    "    print('Finished ' + temp)"
   ]
  },
  {
   "cell_type": "markdown",
   "id": "4a0506ea-8776-4d16-a56d-491f8f0b90e5",
   "metadata": {
    "tags": []
   },
   "source": [
    "## 3D data\n",
    "\n",
    "Note that the 3D data is 6 hourly, so require different time parameters\n",
    "\n",
    "- ua - eastward wind velocity\n",
    "- va - northward wind velocity\n",
    "- wa - vertical velocity\n",
    "- pa - pressure\n",
    "- cli - mass fraction of cloud liqid ice\n",
    "- clw - mass fraction of cloud liquid water\n",
    "- hus - specific humidity\n",
    "- hur - relative humidity\n",
    "- tntr - tendency of air temperature due to radiative heating\n",
    "- ta - atmospheric temperature"
   ]
  },
  {
   "cell_type": "code",
   "execution_count": 7,
   "id": "50a81f7c-97a5-46c6-87ce-5865355eee67",
   "metadata": {
    "tags": []
   },
   "outputs": [
    {
     "name": "stdout",
     "output_type": "stream",
     "text": [
      "takes the average over 25 periods of 4 hour averages\n"
     ]
    }
   ],
   "source": [
    "#time params for 3D data\n",
    "ts = 4 # number of timesteps want to integrate over\n",
    "nd = int(nodays*ts)\n",
    "totalt = np.arange(nd)# total number of timesteps \n",
    "tbk = np.asarray(np.split(totalt, nodays))\n",
    "print('takes the average over ' + str(nodays) + ' periods of ' + str(ts)+ ' hour averages')    "
   ]
  },
  {
   "cell_type": "code",
   "execution_count": 8,
   "id": "20403182-fd6d-4ac4-92b8-7ca3a58d0e78",
   "metadata": {},
   "outputs": [
    {
     "name": "stdout",
     "output_type": "stream",
     "text": [
      "ua large305\n",
      "Finished ua at large305\n",
      "va large305\n",
      "Finished va at large305\n",
      "pa large305\n",
      "Finished pa at large305\n",
      "cli large305\n",
      "Finished cli at large305\n",
      "clw large305\n",
      "Finished clw at large305\n",
      "wa large305\n",
      "Finished wa at large305\n",
      "hus large305\n",
      "Finished hus at large305\n",
      "hur large305\n",
      "Finished hur at large305\n",
      "tntr large305\n",
      "Finished tntr at large305\n",
      "ta large305\n",
      "Finished ta at large305\n"
     ]
    }
   ],
   "source": [
    "vars = ['ua', 'va', 'pa','cli', 'clw','wa','hus','hur', 'tntr', 'ta']\n",
    "\n",
    "dp = '/home/users/arm33/RCEMIP/'+ model + '/processed_new'\n",
    "\n",
    "for temp in ['large305']:\n",
    "\n",
    "    datapath = '/badc/rcemip/data/'+ model +'/RCE_' + temp + '/3D/'\n",
    "    for var in vars:\n",
    "        print(var, temp)\n",
    "        nc = Dataset( datapath + model + '_RCE_' + temp + '_3D.nc')\n",
    "        var_bk = np.empty((nodays, levsize, ny, nx))\n",
    "        for t in range(nodays):            \n",
    "            var_full = nc.variables[var][tbk[t,0]:tbk[t,-1]+1,]\n",
    "            for i in range(ny):\n",
    "                if i == ny-1: # check if it's the last block, if yes then use all remaining gridpoints\n",
    "                    endy = y_orig[-1]+1\n",
    "                else:\n",
    "                    endy = ybk[i,-1]+1\n",
    "                for j in range(nx): # ditto\n",
    "                    if j == nx-1:\n",
    "                        endx = x_orig[-1]+1\n",
    "                    else:\n",
    "                        endx = xbk[j,-1]+1\n",
    "                    for k in range(levsize):\n",
    "                        var_bk[t, k,i,j] = np.nanmean(var_full[:, k, ybk[i,0]:endy, xbk[j,0]: endx])\n",
    "            \n",
    "        \n",
    "        var_bk.dump(dp + '/3D/' + temp + var + '_profile_25d.npy')\n",
    "    \n",
    "        print('Finished ' + var + ' at ' + temp)\n",
    "\n",
    "\n"
   ]
  },
  {
   "cell_type": "markdown",
   "id": "a4838eec-5aa6-45a2-aec9-65bdc2ebca01",
   "metadata": {
    "tags": []
   },
   "source": [
    "## Cloud fraction\n",
    "\n",
    "This follows the procedure described in Wing et al., 2020\n",
    "\n",
    "1. Read in clw, cli ta and pa for each day (four time steps)\n",
    "2. Take the mean for that 24 hours\n",
    "3. Calculate the saturation mixing ratio and the cloud condensate (= cli + clw)\n",
    "4. for each 32 x 32 block, calculate the proportion of points where either the cloud condensate is grater than 0.00001, or greater than the 0.01 x the saturation mixing ratio"
   ]
  },
  {
   "cell_type": "code",
   "execution_count": 9,
   "id": "c5c2a208-753d-4e50-83b0-93a1e6a9baf2",
   "metadata": {
    "tags": []
   },
   "outputs": [
    {
     "name": "stdout",
     "output_type": "stream",
     "text": [
      "takes the average over 25 periods of 4 hour averages\n"
     ]
    }
   ],
   "source": [
    "#time params for 3D data\n",
    "ts = 4 # number of timesteps want to integrate over\n",
    "nd = int(nodays*ts)\n",
    "totalt = np.arange(nd)# total number of timesteps \n",
    "tbk = np.asarray(np.split(totalt, nodays))\n",
    "print('takes the average over ' + str(nodays) + ' periods of ' + str(ts)+ ' hour averages')    "
   ]
  },
  {
   "cell_type": "code",
   "execution_count": 10,
   "id": "8ea15ba1-e6b8-41cf-addb-680de46e57e0",
   "metadata": {},
   "outputs": [
    {
     "name": "stdout",
     "output_type": "stream",
     "text": [
      "-----------large300----------\n",
      "0\n",
      "1\n",
      "2\n",
      "3\n",
      "4\n",
      "5\n",
      "6\n",
      "7\n",
      "8\n",
      "9\n",
      "10\n",
      "11\n",
      "12\n",
      "13\n",
      "14\n",
      "15\n",
      "16\n",
      "17\n",
      "18\n",
      "19\n",
      "20\n",
      "21\n",
      "22\n",
      "23\n",
      "24\n",
      "-----------large305----------\n",
      "0\n",
      "1\n",
      "2\n",
      "3\n",
      "4\n",
      "5\n",
      "6\n",
      "7\n",
      "8\n",
      "9\n",
      "10\n",
      "11\n",
      "12\n",
      "13\n",
      "14\n",
      "15\n",
      "16\n",
      "17\n",
      "18\n",
      "19\n",
      "20\n",
      "21\n",
      "22\n",
      "23\n",
      "24\n"
     ]
    }
   ],
   "source": [
    "#cloud fraction\n",
    "dp = '/home/users/arm33/RCEMIP/'+ model + '/processed_new'  \n",
    "\n",
    "nd = nodays*ts\n",
    "\n",
    "for temp in temps:\n",
    "    print('-----------' + temp + '----------')\n",
    "    #calc 24 hour means of cloud condensate and sat mix ratio\n",
    "    satmixr =np.empty((nodays, levsize,len(y_orig), len(x_orig) ))\n",
    "    cloudcon = np.empty((nodays, levsize,len(y_orig), len(x_orig) ))\n",
    "    datapath = '/badc/rcemip/data/'+ model +'/RCE_' + temp + '/3D/'\n",
    "    for t in range(nodays):       \n",
    "        nc = Dataset( datapath + model + '_RCE_' + temp + '_3D.nc')\n",
    "        clw = np.mean(nc.variables['clw'][tbk[t,0]:tbk[t,-1]+1, ], axis = 0)\n",
    "        cli = np.mean(nc.variables['cli'][tbk[t,0]:tbk[t,-1]+1, ], axis = 0)\n",
    "        pa = np.mean(nc.variables['pa'][tbk[t,0]:tbk[t,-1]+1,], axis = 0)\n",
    "        ta = np.mean(nc.variables['ta'][tbk[t,0]:tbk[t,-1]+1,], axis =0)\n",
    "        nc.close()\n",
    "        pa = np.asarray(pa) * units.pascal\n",
    "        ta = np.asarray(ta) * units.K\n",
    "        \n",
    "        satmixr[t, ] = metpy.calc.saturation_mixing_ratio(pa, ta)\n",
    "        cloudcon[t,]= clw + cli\n",
    "        \n",
    "\n",
    "    #calc cloud frac\n",
    "    cldfrac = np.zeros((nodays, levsize, ny, nx))\n",
    "    for t in range(nodays):\n",
    "        print(t)\n",
    "        for k in range(levsize):\n",
    "            for i in range(ny):\n",
    "                if i == ny-1: # check if it's the last block, if yes then use all remaining gridpoints\n",
    "                    endy = y_orig[-1]+1\n",
    "                else:\n",
    "                    endy = ybk[i,-1]+1\n",
    "                for j in range(nx): # ditto\n",
    "                    if j == nx-1:\n",
    "                        endx = x_orig[-1]+1\n",
    "                    else:\n",
    "                        endx = xbk[j,-1]+1\n",
    "\n",
    "                    cc = cloudcon[t,k, ybk[i,0]:endy, xbk[j,0]: endx].flatten()\n",
    "                    sm = satmixr[t,k, ybk[i,0]:endy, xbk[j,0]: endx].flatten()\n",
    "                    no_grid_points = len(sm)\n",
    "                    count = 0\n",
    "                    for r in range(no_grid_points):\n",
    "                        if cc[r] > 0.00001:\n",
    "                            count +=1\n",
    "                        elif cc[r] > 0.01*sm[r]:\n",
    "                            count +=1 \n",
    "\n",
    "                    cldfrac[t,k, i , j ] = count/no_grid_points\n",
    "\n",
    "    cldfrac.dump(dp + '/3D/'+ temp + 'cldfrac_profile_25d.npy')\n",
    "    "
   ]
  },
  {
   "cell_type": "code",
   "execution_count": null,
   "id": "69840d44-3795-4d4d-8189-bfe55d594890",
   "metadata": {},
   "outputs": [],
   "source": []
  }
 ],
 "metadata": {
  "kernelspec": {
   "display_name": "Python 3 + Jaspy",
   "language": "python",
   "name": "jaspy"
  },
  "language_info": {
   "codemirror_mode": {
    "name": "ipython",
    "version": 3
   },
   "file_extension": ".py",
   "mimetype": "text/x-python",
   "name": "python",
   "nbconvert_exporter": "python",
   "pygments_lexer": "ipython3",
   "version": "3.10.5"
  }
 },
 "nbformat": 4,
 "nbformat_minor": 5
}
