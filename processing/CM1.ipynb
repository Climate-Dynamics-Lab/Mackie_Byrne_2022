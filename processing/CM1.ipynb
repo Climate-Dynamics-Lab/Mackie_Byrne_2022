{
 "cells": [
  {
   "cell_type": "markdown",
   "id": "5a5bb49c-62aa-4e03-83cb-95fa04917ff3",
   "metadata": {},
   "source": [
    "# CM1 time and spatial averaging\n",
    "Anna Mackie, 2022\n",
    "\n",
    "Processing for long channel simulations from CM1. Three SSTs (295, 300 and 305K). Please see Wing et al. (2018) for simulation and variable descriptions.\n",
    "\n",
    "This script, for different data:\n",
    "- reads in data from CEDA archive\n",
    "- takes the average over 24 hours and 32 x 32 grid points (equivilent to 96 km x 96km). NB last blocks may have more grid points to ensure all grid points used\n",
    "- saves as npy files\n",
    "\n",
    "This is done for a number of variables. The code is grouped for\n",
    "1. 2D variables\n",
    "2. 3D variables\n",
    "3. Cloud fraction\n",
    "\n",
    "Cloud fraction follows the method of Wing et al., (2020) which uses a threshold value for cloud condensate."
   ]
  },
  {
   "cell_type": "code",
   "execution_count": 1,
   "id": "dd035498-bc8d-4631-bbac-6173c219224d",
   "metadata": {},
   "outputs": [
    {
     "name": "stdout",
     "output_type": "stream",
     "text": [
      "/home/users/arm33/nb-venvs/metpy_venv/lib/python3.10/site-packages/metpy/__init__.py\n"
     ]
    }
   ],
   "source": [
    "# activate virtual environmnet required for metpy\n",
    "import sys\n",
    "import pathlib\n",
    "import platform\n",
    "venv_path = '~/nb-venvs/metpy_venv'\n",
    "sys.path.append(str(pathlib.Path(f'{venv_path}/lib/python{platform.python_version_tuple()[0]}.{platform.python_version_tuple()[1]}/site-packages/').expanduser()))\n",
    "\n",
    "import metpy\n",
    "print(metpy.__file__)"
   ]
  },
  {
   "cell_type": "code",
   "execution_count": 2,
   "id": "5a3b7064-112a-467e-97e1-0e431de7da2d",
   "metadata": {},
   "outputs": [],
   "source": [
    "import numpy as np\n",
    "import numpy.ma as ma\n",
    "import matplotlib.pyplot as plt\n",
    "from netCDF4 import Dataset\n",
    "from metpy.calc import saturation_mixing_ratio\n",
    "from metpy.units import units\n",
    "import numpy.ma as ma\n",
    "import os\n",
    "import sys\n",
    "sys.path.append('../../')\n",
    "import funcs\n",
    "\n"
   ]
  },
  {
   "cell_type": "markdown",
   "id": "b68723d0-116c-4535-a737-382fcda98529",
   "metadata": {},
   "source": [
    "## Model specific inputs\n",
    "Different models have slightly different set ups (eg grid points, file names etc)\n",
    "\n",
    "'Blocks' refer to the grid post-spatial averaging"
   ]
  },
  {
   "cell_type": "code",
   "execution_count": 3,
   "id": "9d237002-0b0b-4019-9e17-53b0e2ed2e9f",
   "metadata": {},
   "outputs": [],
   "source": [
    "# model specific inputs\n",
    "model = 'CM1' #in this model, time is in hours, with 24 hours to a file\n",
    "\n",
    "#temp labels\n",
    "temps =  ['large295', 'large300', 'large305']"
   ]
  },
  {
   "cell_type": "code",
   "execution_count": 4,
   "id": "30a1440b-c7eb-4dcb-b6d7-01b6348ef894",
   "metadata": {},
   "outputs": [
    {
     "name": "stdout",
     "output_type": "stream",
     "text": [
      "1 74 134 2016\n"
     ]
    }
   ],
   "source": [
    "# paramaters for all models\n",
    "bk = 32 # number of x/y gridpoints in a block\n",
    "nodays = 25 # number of days\n",
    "\n",
    "#read in sample nc file to get dimensions\n",
    "datapath3D = '/badc/rcemip/data/'+ model +'/RCE_' + temps[0]+ '/3D/'\n",
    "nc_ta = Dataset(datapath3D + model + '_RCE_' + temps[0] + '_3D_allvars_hour1800.nc')\n",
    "ta = nc_ta.variables['ta'][:]\n",
    "tsize, levsize , ysize, xsize = np.shape(ta) \n",
    "nc_ta.close()\n",
    "print(tsize, levsize, ysize, xsize)\n"
   ]
  },
  {
   "cell_type": "code",
   "execution_count": 5,
   "id": "0d6546b2-2626-4553-939c-b12fb91cb974",
   "metadata": {},
   "outputs": [],
   "source": [
    "#set time, levels, y and x dimensions for this model\n",
    "tsize, levsize, ysize, xsize = 1, 74, 134, 2016"
   ]
  },
  {
   "cell_type": "markdown",
   "id": "d3fd440a-7e2e-4fa5-8b67-f35dbebb7ba9",
   "metadata": {},
   "source": [
    "## Parameters for all models"
   ]
  },
  {
   "cell_type": "code",
   "execution_count": 6,
   "id": "ece91f1a-7dc6-4aa7-bda5-da71de9a9e39",
   "metadata": {},
   "outputs": [],
   "source": [
    "bk = 32 # number of x/y gridpoints in a block\n",
    "nodays = 25 # number of days"
   ]
  },
  {
   "cell_type": "code",
   "execution_count": 7,
   "id": "a15c2ebd-e770-46e8-bc56-2018e873a5e0",
   "metadata": {},
   "outputs": [
    {
     "name": "stdout",
     "output_type": "stream",
     "text": [
      "no blocks in x direction:  63 ; no in y direction:  4\n"
     ]
    }
   ],
   "source": [
    "# set up spaitial averaging\n",
    "x_orig = np.arange(xsize) # total number of x points (rows)\n",
    "y_orig = np.arange(ysize) # total number of y points (columns)\n",
    "\n",
    "ny = int(len(y_orig)/bk) # number of x/y blocks in the grid\n",
    "y_new = np.arange(ny*bk)\n",
    "ybk = np.asarray(np.split(y_new, ny))\n",
    "\n",
    "nx = int(len(x_orig)/bk) # number of x/y blocks in the grid\n",
    "x_new = np.arange(nx*bk)\n",
    "xbk = np.asarray(np.split(x_new, nx))\n",
    "print('no blocks in x direction: ', nx, '; no in y direction: ',ny)\n"
   ]
  },
  {
   "cell_type": "markdown",
   "id": "26129ced-921c-428f-8012-3a5813dd459d",
   "metadata": {},
   "source": [
    "## 2D data\n",
    "\n",
    "- lwcrf - longwave cloud radiative effect, calculated from rlut (outgoing longwave radiation, all sky) and rlutcs (clear sky)\n",
    "- swcrf - as above, but for shortwave\n",
    "- pr - surface precipitation rate\n",
    "- tas - near surface air temperature"
   ]
  },
  {
   "cell_type": "code",
   "execution_count": 8,
   "id": "a98f2f42-58ea-4a34-9e66-59b480fde02b",
   "metadata": {},
   "outputs": [
    {
     "name": "stdout",
     "output_type": "stream",
     "text": [
      "takes the average over 25 periods of 24 hour averages\n"
     ]
    }
   ],
   "source": [
    "#time params for 2D data\n",
    "#set time params\n",
    "ts = 24 # number of hours want to integrate over\n",
    "nd = int(nodays*ts)\n",
    "totalt = np.arange(nd)# total number of hours \n",
    "tbk = np.asarray(np.split(totalt, nodays))\n",
    "print('takes the average over ' + str(nodays) + ' periods of ' + str(ts)+ ' hour averages')    "
   ]
  },
  {
   "cell_type": "code",
   "execution_count": 9,
   "id": "8053b5a2-569c-47c3-bf87-aac31efafc22",
   "metadata": {},
   "outputs": [
    {
     "name": "stdout",
     "output_type": "stream",
     "text": [
      "total number of blocks:  6300.0\n",
      "day  0  done\n",
      "day  5  done\n",
      "day  10  done\n",
      "day  15  done\n",
      "total number of blocks:  6300.0\n",
      "day  0  done\n",
      "day  5  done\n",
      "day  10  done\n",
      "day  15  done\n",
      "day  20  done\n",
      "total number of blocks:  6300.0\n",
      "day  0  done\n",
      "day  5  done\n",
      "day  10  done\n",
      "day  15  done\n",
      "day  20  done\n"
     ]
    }
   ],
   "source": [
    "dp = '/home/users/arm33/RCEMIP/'+ model + '/processed_new'\n",
    "\n",
    "for temp in temps:\n",
    "\n",
    "    datapath ='/badc/rcemip/data/'+ model + '/RCE_' + temp + '/2D/'\n",
    "    datalist = sorted(os.listdir(datapath))\n",
    "    datalist = datalist[-nd:] # last 25 days/600 hours\n",
    "    d = len(datalist)\n",
    "    print('total number of blocks: ', nx*ny*(d/24))\n",
    "\n",
    "    lwcrf_bk, swcrf_bk = np.empty((nodays, ny, nx)),np.empty((nodays, ny, nx))\n",
    "    pr_bk, tas_bk = np.empty((nodays, ny, nx)),np.empty((nodays, ny, nx))\n",
    "    count = 0\n",
    "    for t in range(0, d, ts):\n",
    "        #empty arrays for each day\n",
    "        lwcrf_day, swcrf_day = np.empty((ts, len(y_orig), len(x_orig) )),np.empty((ts, len(y_orig), len(x_orig) ))\n",
    "        pr_day, tas_day = np.empty((ts, len(y_orig), len(x_orig) )), np.empty((ts, len(y_orig), len(x_orig) ))\n",
    "        for tt in range(ts):\n",
    "            fn = datapath + datalist[t+tt]\n",
    "            nc = Dataset(fn)\n",
    "            #read in data and fill in one day with  hourly data\n",
    "            lwcrf_day[tt, :,:] = nc.variables['rlutcs'][:] - nc.variables['rlut'][:]\n",
    "            swcrf_day[tt, :,:] = nc.variables['rsutcs'][:] - nc.variables['rsut'][:]\n",
    "            pr_day[tt,:,:] = nc.variables['pr'][:]\n",
    "            tas_day[tt,:,:]= nc.variables['tas'][:]\n",
    "            nc.close()\n",
    "        #take mean over that day and spatial blocks\n",
    "        for i in range(ny):\n",
    "                if i == ny-1: # check if it's the last block, if yes then use all remaining gridpoints\n",
    "                    endy = y_orig[-1]+1\n",
    "                else:\n",
    "                    endy = ybk[i,-1]+1\n",
    "                for j in range(nx): # ditto\n",
    "                    if j == nx-1:\n",
    "                        endx = x_orig[-1]+1\n",
    "                    else:\n",
    "                        endx = xbk[j,-1]+1\n",
    "\n",
    "                    lwcrf_bk[count,i,j] = np.nanmean(lwcrf_day[:,  ybk[i,0]:endy, xbk[j,0]: endx])\n",
    "                    swcrf_bk[count,i,j] = np.nanmean(swcrf_day[:,  ybk[i,0]:endy, xbk[j,0]: endx])\n",
    "                    pr_bk[count,i,j] = np.nanmean(pr_day[:,  ybk[i,0]:endy, xbk[j,0]: endx])\n",
    "                    tas_bk[count,i,j] = np.nanmean(tas_day[:,  ybk[i,0]:endy, xbk[j,0]: endx])\n",
    "\n",
    "        if count%5==0:        \n",
    "            print('day ', count, ' done')        \n",
    "        count+=1\n",
    "\n",
    "    lwcrf_bk.dump(dp + '/2D/'+ temp + 'lwcrf' + str(ts) + 'hrs.npy')\n",
    "    swcrf_bk.dump(dp + '/2D/'+ temp + 'swcrf' + str(ts) + 'hrs.npy')\n",
    "    pr_bk.dump(dp + '/2D/'+ temp + 'pr' + str(ts) + 'hrs.npy')\n",
    "    tas_bk.dump(dp + '/2D/'+ temp + 'tas' + str(ts) + 'hrs.npy')"
   ]
  },
  {
   "cell_type": "markdown",
   "id": "f2972ba9-9318-4dc3-a86a-e9a419b85dfe",
   "metadata": {
    "tags": []
   },
   "source": [
    "## 3D data\n",
    "\n",
    "Note that the 3D data is 6 hourly, so require different time parameters\n",
    "\n",
    "- ua - eastward wind velocity\n",
    "- va - northward wind velocity\n",
    "- wa - vertical velocity\n",
    "- pa - pressure\n",
    "- cli - mass fraction of cloud liqid ice\n",
    "- clw - mass fraction of cloud liquid water\n",
    "- hus - specific humidity\n",
    "- hur - relative humidity\n",
    "- tntr - tendency of air temperature due to radiative heating\n",
    "- ta - atmospheric temperature"
   ]
  },
  {
   "cell_type": "code",
   "execution_count": 6,
   "id": "49cf5ba8-818a-4bb5-9f83-71861a4c59bb",
   "metadata": {
    "tags": []
   },
   "outputs": [
    {
     "name": "stdout",
     "output_type": "stream",
     "text": [
      "takes the average over 25 periods of 4 hour averages\n"
     ]
    }
   ],
   "source": [
    "#time params for 3D data\n",
    "ts = 4 # number of timesteps want to integrate over\n",
    "nd = int(nodays*ts)\n",
    "totalt = np.arange(nd)# total number of timesteps \n",
    "tbk = np.asarray(np.split(totalt, nodays))\n",
    "print('takes the average over ' + str(nodays) + ' periods of ' + str(ts)+ ' hour averages')    "
   ]
  },
  {
   "cell_type": "code",
   "execution_count": 7,
   "id": "8bc01814-396c-4893-97c4-1ef11f717b5b",
   "metadata": {},
   "outputs": [
    {
     "name": "stdout",
     "output_type": "stream",
     "text": [
      "ua\n",
      "day  0  done\n",
      "day  5  done\n",
      "day  10  done\n",
      "day  15  done\n",
      "day  20  done\n",
      "va\n",
      "day  0  done\n",
      "day  5  done\n",
      "day  10  done\n",
      "day  15  done\n",
      "day  20  done\n",
      "ua\n",
      "day  0  done\n",
      "day  5  done\n",
      "day  10  done\n",
      "day  15  done\n",
      "day  20  done\n",
      "va\n",
      "day  0  done\n",
      "day  5  done\n",
      "day  10  done\n",
      "day  15  done\n",
      "day  20  done\n",
      "ua\n",
      "day  0  done\n",
      "day  5  done\n",
      "day  10  done\n",
      "day  15  done\n",
      "day  20  done\n",
      "va\n",
      "day  0  done\n",
      "day  5  done\n",
      "day  10  done\n",
      "day  15  done\n",
      "day  20  done\n"
     ]
    }
   ],
   "source": [
    "vars = ['ua', 'va', 'pa','cli', 'clw','wa','hus','hur', 'tntr', 'ta']\n",
    "\n",
    "dp = '/home/users/arm33/RCEMIP/'+ model + '/processed_new'\n",
    "\n",
    "\n",
    "for temp in temps:\n",
    "\n",
    "    datapath ='/badc/rcemip/data/'+ model + '/RCE_' + temp + '/3D/'\n",
    "    datalist = sorted(os.listdir(datapath))\n",
    "    datalist = datalist[-nd:] # last 25 days/600 hours\n",
    "    d = len(datalist)\n",
    "    \n",
    "    for var in vars:\n",
    "        print(var)\n",
    "        var_bk = np.empty((nodays,levsize ,ny, nx))\n",
    "        count = 0\n",
    "        for t in range(0, d, ts):\n",
    "            #empty arrays for each day\n",
    "            var_day = np.empty((ts, levsize,len(y_orig), len(x_orig) ))\n",
    "            for tt in range(ts):\n",
    "                fn = datapath + datalist[t+tt]\n",
    "                nc = Dataset(fn)\n",
    "                #read in data and fill in one day with  hourly data\n",
    "                var_day[tt, :,:] = nc.variables[var][:]\n",
    "                nc.close()\n",
    "            #take mean over that day and spatial blocks\n",
    "            for i in range(ny):\n",
    "                    if i == ny-1: # check if it's the last block, if yes then use all remaining gridpoints\n",
    "                        endy = y_orig[-1]+1\n",
    "                    else:\n",
    "                        endy = ybk[i,-1]+1\n",
    "                    for j in range(nx): # ditto\n",
    "                        if j == nx-1:\n",
    "                            endx = x_orig[-1]+1\n",
    "                        else:\n",
    "                            endx = xbk[j,-1]+1\n",
    "                        for k in range(levsize):\n",
    "                            var_bk[count,k,i,j] = np.nanmean(var_day[:, k, ybk[i,0]:endy, xbk[j,0]: endx])\n",
    "                        \n",
    "\n",
    "            if count%5==0:        \n",
    "                print('day ', count, ' done')        \n",
    "            count+=1\n",
    "\n",
    "        var_bk.dump(dp + '/3D/'+ temp + var + '_profile_25d.npy')\n",
    "        \n",
    "\n"
   ]
  },
  {
   "cell_type": "markdown",
   "id": "20e4d0bc-a2c2-4d48-9cab-010b035f108c",
   "metadata": {
    "tags": []
   },
   "source": [
    "## Cloud fraction\n",
    "\n",
    "This follows the procedure described in Wing et al., 2020\n",
    "\n",
    "1. Read in clw, cli ta and pa for each day (four time steps)\n",
    "2. Take the mean for that 24 hours\n",
    "3. Calculate the saturation mixing ratio and the cloud condensate (= cli + clw)\n",
    "4. for each 32 x 32 block, calculate the proportion of points where either the cloud condensate is grater than 0.00001, or greater than the 0.01 x the saturation mixing ratio"
   ]
  },
  {
   "cell_type": "code",
   "execution_count": 9,
   "id": "c5c2a208-753d-4e50-83b0-93a1e6a9baf2",
   "metadata": {
    "tags": []
   },
   "outputs": [
    {
     "name": "stdout",
     "output_type": "stream",
     "text": [
      "takes the average over 25 periods of 4 hour averages\n"
     ]
    }
   ],
   "source": [
    "#time params for 3D data\n",
    "ts = 4 # number of timesteps want to integrate over\n",
    "nd = int(nodays*ts)\n",
    "totalt = np.arange(nd)# total number of timesteps \n",
    "tbk = np.asarray(np.split(totalt, nodays))\n",
    "print('takes the average over ' + str(nodays) + ' periods of ' + str(ts)+ ' hour averages')    "
   ]
  },
  {
   "cell_type": "code",
   "execution_count": 12,
   "id": "c5929912-9d90-4509-b8d1-c902799c1fa9",
   "metadata": {},
   "outputs": [
    {
     "name": "stdout",
     "output_type": "stream",
     "text": [
      "(25, 74, 134, 2016) (25, 74, 134, 2016)\n",
      "0\n",
      "1\n",
      "2\n",
      "3\n",
      "4\n",
      "5\n",
      "6\n",
      "7\n",
      "8\n",
      "9\n",
      "10\n",
      "11\n",
      "12\n",
      "13\n",
      "14\n",
      "15\n",
      "16\n",
      "17\n",
      "18\n",
      "19\n",
      "20\n",
      "21\n",
      "22\n",
      "23\n",
      "24\n"
     ]
    }
   ],
   "source": [
    "#cloud fraction\n",
    "dp = '/home/users/arm33/RCEMIP/'+ model + '/processed_new'  \n",
    "temps = ['large295']\n",
    "nd = nodays*ts\n",
    "for temp in temps:\n",
    "\n",
    "    datapath = '/badc/rcemip/data/'+ model +'/RCE_' + temp + '/3D/'\n",
    "    datalist = sorted(os.listdir(datapath))\n",
    "    datalist = datalist[-nd:] # last 25 days\n",
    "    d = len(datalist)\n",
    "\n",
    "    satmixr =np.empty((nodays, levsize,len(y_orig), len(x_orig) ))\n",
    "    cloudcon = np.empty((nodays, levsize,len(y_orig), len(x_orig) ))\n",
    "    counter =0\n",
    "    for t in np.arange(0,d,ts):\n",
    "        clw_temp= np.empty((ts, levsize,len(y_orig), len(x_orig) ))\n",
    "        cli_temp= np.empty((ts, levsize,len(y_orig), len(x_orig) ))\n",
    "        pa_temp= np.empty((ts, levsize,len(y_orig), len(x_orig) ))\n",
    "        ta_temp= np.empty((ts, levsize,len(y_orig), len(x_orig) ))\n",
    "        for f in range(ts):\n",
    "            fn = datapath + datalist[t+f]\n",
    "            nc = Dataset(fn)\n",
    "            clw_temp[f,] = nc.variables['clw'][:]\n",
    "            cli_temp[f,] = nc.variables['cli'][:]\n",
    "            pa_temp[f,] = nc.variables['pa'][:]\n",
    "            ta_temp[f,] = nc.variables['ta'][:]\n",
    "            nc.close()\n",
    "\n",
    "        clwf = np.mean(clw_temp, axis = 0)\n",
    "        clif = np.mean(cli_temp, axis = 0)\n",
    "        paf = np.mean(pa_temp, axis = 0)\n",
    "        taf = np.mean(ta_temp, axis = 0)\n",
    "\n",
    "        pa = np.asarray(paf)*units.pascal\n",
    "        ta = np.asarray(taf)*units.K\n",
    "        \n",
    "        satmixr[counter,  ] = metpy.calc.saturation_mixing_ratio(pa, ta)\n",
    "        cloudcon[counter, ]= clwf + clif\n",
    "        counter+=1\n",
    "    print(np.shape(satmixr), np.shape(cloudcon))\n",
    "\n",
    "\n",
    "    cldfrac = np.zeros((nodays, levsize, ny, nx))\n",
    "    for t in range(nodays):\n",
    "        print(t)\n",
    "        for k in range(levsize):\n",
    "            for i in range(ny):\n",
    "                if i == ny-1: # check if it's the last block, if yes then use all remaining gridpoints\n",
    "                    endy = y_orig[-1]+1\n",
    "                else:\n",
    "                    endy = ybk[i,-1]+1\n",
    "                for j in range(nx): # ditto\n",
    "                    if j == nx-1:\n",
    "                        endx = x_orig[-1]+1\n",
    "                    else:\n",
    "                        endx = xbk[j,-1]+1\n",
    "\n",
    "                    cc = cloudcon[t,k, ybk[i,0]:endy, xbk[j,0]: endx].flatten()\n",
    "                    sm = satmixr[t,k, ybk[i,0]:endy, xbk[j,0]: endx].flatten()\n",
    "                    no_grid_points = len(sm)\n",
    "                    count = 0\n",
    "                    for r in range(no_grid_points):\n",
    "                        if cc[r] > 0.00001:\n",
    "                            count +=1\n",
    "                        elif cc[r] > 0.01*sm[r]:\n",
    "                            count +=1 \n",
    "\n",
    "                    cldfrac[t,k, i , j ] = count/no_grid_points\n",
    "\n",
    "    cldfrac.dump(dp + '/3D/'+ temp + 'cldfrac_profile_25d.npy')"
   ]
  }
 ],
 "metadata": {
  "kernelspec": {
   "display_name": "Python 3 + Jaspy",
   "language": "python",
   "name": "jaspy"
  },
  "language_info": {
   "codemirror_mode": {
    "name": "ipython",
    "version": 3
   },
   "file_extension": ".py",
   "mimetype": "text/x-python",
   "name": "python",
   "nbconvert_exporter": "python",
   "pygments_lexer": "ipython3",
   "version": "3.10.5"
  }
 },
 "nbformat": 4,
 "nbformat_minor": 5
}
