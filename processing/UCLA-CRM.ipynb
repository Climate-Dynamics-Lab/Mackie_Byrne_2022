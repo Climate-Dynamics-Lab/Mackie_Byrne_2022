{
 "cells": [
  {
   "cell_type": "markdown",
   "id": "d462aebd-9e95-4c0b-994e-f8cfffbc0114",
   "metadata": {},
   "source": [
    "# UCLA-CRM time and spatial averaging\n",
    "Anna Mackie, 2022\n",
    "\n",
    "Processing for long channel simulations from CM1. Three SSTs (295, 300 and 305K). Please see Wing et al. (2018) for simulation and variable descriptions.\n",
    "\n",
    "This script, for different data:\n",
    "- reads in data from CEDA archive\n",
    "- takes the average over 24 hours and 32 x 32 grid points (equivilent to 96 km x 96km). NB last blocks may have more grid points to ensure all grid points used\n",
    "- saves as npy files\n",
    "\n",
    "This is done for a number of variables. The code is grouped for\n",
    "1. 2D variables\n",
    "2. 3D variables\n",
    "3. Cloud fraction\n",
    "\n",
    "Cloud fraction follows the method of Wing et al., (2020) which uses a threshold value for cloud condensate."
   ]
  },
  {
   "cell_type": "code",
   "execution_count": 1,
   "id": "b806faec-e27c-41c2-b6d0-53fe9710a9a3",
   "metadata": {},
   "outputs": [
    {
     "name": "stdout",
     "output_type": "stream",
     "text": [
      "/home/users/arm33/nb-venvs/metpy_venv/lib/python3.10/site-packages/metpy/__init__.py\n"
     ]
    }
   ],
   "source": [
    "# activate virtual environmnet required for metpy\n",
    "import sys\n",
    "import pathlib\n",
    "import platform\n",
    "venv_path = '~/nb-venvs/metpy_venv'\n",
    "sys.path.append(str(pathlib.Path(f'{venv_path}/lib/python{platform.python_version_tuple()[0]}.{platform.python_version_tuple()[1]}/site-packages/').expanduser()))\n",
    "\n",
    "import metpy\n",
    "print(metpy.__file__)"
   ]
  },
  {
   "cell_type": "code",
   "execution_count": 2,
   "id": "23a7381e-cefc-4fc2-a078-780b6b53ff76",
   "metadata": {},
   "outputs": [],
   "source": [
    "import numpy as np\n",
    "import numpy.ma as ma\n",
    "import matplotlib.pyplot as plt\n",
    "from netCDF4 import Dataset\n",
    "from metpy.calc import saturation_mixing_ratio\n",
    "from metpy.units import units\n",
    "import numpy.ma as ma\n",
    "import os\n",
    "import sys\n",
    "sys.path.append('../../')\n",
    "import funcs\n",
    "\n"
   ]
  },
  {
   "cell_type": "markdown",
   "id": "ea243936-b30d-4519-9f24-1e25a7794676",
   "metadata": {},
   "source": [
    "## Model specific inputs\n",
    "Different models have slightly different set ups (eg grid points, file names etc)\n",
    "\n",
    "'Blocks' refer to the grid post-spatial averaging"
   ]
  },
  {
   "cell_type": "code",
   "execution_count": 3,
   "id": "ea6ab504-2078-4230-a376-f0992ca2771d",
   "metadata": {},
   "outputs": [],
   "source": [
    "model = 'UCLA-CRM' #in this model, time is in hours, with 24 hours to a file\n",
    "\n",
    "#temp labels\n",
    "temps =  ['large295', 'large300', 'large305']"
   ]
  },
  {
   "cell_type": "code",
   "execution_count": 4,
   "id": "b4b71c0a-0804-4bfc-8284-495e4d1f4a0c",
   "metadata": {},
   "outputs": [
    {
     "name": "stdout",
     "output_type": "stream",
     "text": [
      "101 128 1984 75\n"
     ]
    }
   ],
   "source": [
    "#read in sample nc file to get dimensions\n",
    "datapath3D = '/badc/rcemip/data/'+ model +'/RCE_' + temps[0]+ '/3D/'\n",
    "nc_ta = Dataset(datapath3D + model + '_RCE_' + temps[0] + '_3D_ta.nc')\n",
    "ta = nc_ta.variables['ta'][:]\n",
    "tsize, ysize, xsize,levsize = np.shape(ta) # UCLA has levels in 4th dimension\n",
    "nc_ta.close()\n",
    "print(tsize, levsize, ysize, xsize)\n"
   ]
  },
  {
   "cell_type": "code",
   "execution_count": null,
   "id": "2b05c624-21db-4082-9e50-a688e4e360b2",
   "metadata": {},
   "outputs": [],
   "source": [
    "#set time, levels, x and y dimensions\n",
    "tsize, ysize, xsize, levsize = 101, 128, 1984, 75 # levels in 4th dimension!!"
   ]
  },
  {
   "cell_type": "markdown",
   "id": "ea5510fc-859a-4f0a-ab14-dd814421913e",
   "metadata": {},
   "source": [
    "## Parameters for all models"
   ]
  },
  {
   "cell_type": "code",
   "execution_count": 4,
   "id": "cd56c094-a697-486b-aa6e-5ed3685f01e5",
   "metadata": {},
   "outputs": [],
   "source": [
    "bk = 32 # number of x/y gridpoints in a block\n",
    "nodays = 25 # number of days\n"
   ]
  },
  {
   "cell_type": "code",
   "execution_count": 5,
   "id": "2a760dfc-f114-4054-9d75-2029d82927f8",
   "metadata": {},
   "outputs": [
    {
     "name": "stdout",
     "output_type": "stream",
     "text": [
      "no blocks in x direction:  62 ; no in y direction:  4\n"
     ]
    }
   ],
   "source": [
    "x = np.arange(xsize) # total number of x points (rows)\n",
    "y = np.arange(ysize) # total number of y points (columns)\n",
    "ny = int(len(y)/bk) # number of x/y blocks in the grid\n",
    "nx = int(len(x)/bk)\n",
    "xbk = np.asarray(np.split(x, nx))\n",
    "ybk = np.asarray(np.split(y, ny))\n",
    "\n",
    "print('no blocks in x direction: ', nx, '; no in y direction: ',ny)"
   ]
  },
  {
   "cell_type": "markdown",
   "id": "0ca823ef-c44f-49e3-8fb9-e34b8d6b87f2",
   "metadata": {},
   "source": [
    "## 2D data\n",
    "\n",
    "- lwcrf - longwave cloud radiative effect, calculated from rlut (outgoing longwave radiation, all sky) and rlutcs (clear sky)\n",
    "- swcrf - as above, but for shortwave\n",
    "- pr - surface precipitation rate\n",
    "- tas - near surface air temperature"
   ]
  },
  {
   "cell_type": "code",
   "execution_count": 6,
   "id": "a40adad0-9706-4471-b4c2-ddc618e258a0",
   "metadata": {},
   "outputs": [
    {
     "name": "stdout",
     "output_type": "stream",
     "text": [
      "takes the average over 25 periods of 24 hour averages\n"
     ]
    }
   ],
   "source": [
    "#time params for 2D data\n",
    "#set time params\n",
    "ts = 24 # number of hours want to integrate over\n",
    "nd = int(nodays*ts)\n",
    "totalt = np.arange(nd)# total number of hours \n",
    "tbk = np.asarray(np.split(totalt, nodays))\n",
    "print('takes the average over ' + str(nodays) + ' periods of ' + str(ts)+ ' hour averages')    "
   ]
  },
  {
   "cell_type": "code",
   "execution_count": 7,
   "id": "5fe9b73f-8508-428d-a53a-eba85eea960a",
   "metadata": {},
   "outputs": [
    {
     "name": "stdout",
     "output_type": "stream",
     "text": [
      "--------large295--------\n",
      "Finished large295\n",
      "--------large300--------\n",
      "Finished large300\n",
      "--------large305--------\n",
      "Finished large305\n"
     ]
    }
   ],
   "source": [
    "dp = '/home/users/arm33/RCEMIP/'+ model + '/processed_new'\n",
    "\n",
    "for temp in temps:\n",
    "    datapath = '/badc/rcemip/data/'+ model +'/RCE_' + temp + '/2D/'\n",
    "    print('--------' + temp + '--------')\n",
    "    \n",
    "    nc = Dataset( datapath + model + '_RCE_' + temp + '_2D_rlut.nc') \n",
    "    lwas_full = nc.variables['rlut'][-nd:,]\n",
    "    nc.close()\n",
    "    nc =  Dataset( datapath + model + '_RCE_' + temp + '_2D_rlutcs.nc')\n",
    "    lwcs_full = nc.variables['rlutcs'][-nd:,]\n",
    "    nc.close()\n",
    "    nc = Dataset( datapath + model + '_RCE_' + temp + '_2D_rsut.nc')\n",
    "    swas_full = nc.variables['rsut'][-nd:,]\n",
    "    nc.close()\n",
    "    nc = Dataset( datapath + model + '_RCE_' + temp + '_2D_rsutcs.nc')\n",
    "    swcs_full = nc.variables['rsutcs'][-nd:,]\n",
    "    nc.close()\n",
    "    \n",
    "    lwcrf_full = lwcs_full - lwas_full\n",
    "    swcrf_full = swcs_full - swas_full\n",
    "    \n",
    "    nc = Dataset( datapath + model + '_RCE_' + temp + '_2D_pr.nc') \n",
    "    pr_full = nc.variables['pr'][-nd:,]\n",
    "    nc.close()\n",
    "    lwcrf_bk, swcrf_bk= np.empty((nodays, ny, nx)), np.empty((nodays, ny, nx)) # crf\n",
    "    pr_bk= np.empty((nodays, ny, nx))\n",
    "    \n",
    "    for t in range(nodays):\n",
    "        for i in range(ny):\n",
    "            for j in range(nx):\n",
    "                lwcrf_bk[t, i, j] = np.nanmean(lwcrf_full[tbk[t,0]:tbk[t, -1]+1, ybk[i,0]:ybk[i,-1]+1, xbk[j,0]: xbk[j,-1]+1])\n",
    "                swcrf_bk[t, i, j] = np.nanmean(swcrf_full[tbk[t,0]:tbk[t, -1]+1, ybk[i,0]:ybk[i,-1]+1, xbk[j,0]: xbk[j,-1]+1])\n",
    "                pr_bk[t, i, j] = np.nanmean(pr_full[tbk[t,0]:tbk[t, -1]+1, ybk[i,0]:ybk[i,-1]+1, xbk[j,0]: xbk[j,-1]+1])\n",
    "   \n",
    "\n",
    "    lwcrf_bk.dump(dp + '/2D/'+ temp + 'lwcrf' + str(ts) + 'hrs.npy')\n",
    "    swcrf_bk.dump(dp + '/2D/'+ temp + 'swcrf' + str(ts) + 'hrs.npy')\n",
    "    pr_bk.dump(dp + '/2D/'+ temp + 'pr' + str(ts) + 'hrs.npy')\n",
    "    \n",
    "   \n",
    "        \n",
    "    print('Finished ' + temp)"
   ]
  },
  {
   "cell_type": "markdown",
   "id": "c643f6cc-8e01-4ef6-b373-97dee2b72f01",
   "metadata": {
    "tags": []
   },
   "source": [
    "## 3D data\n",
    "\n",
    "Note that the 3D data is 6 hourly, so require different time parameters\n",
    "\n",
    "- ua - eastward wind velocity\n",
    "- va - northward wind velocity\n",
    "- wa - vertical velocity\n",
    "- pa - pressure\n",
    "- cli - mass fraction of cloud liqid ice\n",
    "- clw - mass fraction of cloud liquid water\n",
    "- hus - specific humidity\n",
    "- hur - relative humidity\n",
    "- tntr - tendency of air temperature due to radiative heating\n",
    "- ta - atmospheric temperature"
   ]
  },
  {
   "cell_type": "code",
   "execution_count": 11,
   "id": "50a81f7c-97a5-46c6-87ce-5865355eee67",
   "metadata": {
    "tags": []
   },
   "outputs": [
    {
     "name": "stdout",
     "output_type": "stream",
     "text": [
      "takes the average over 25 periods of 4 hour averages\n"
     ]
    }
   ],
   "source": [
    "#time params for 3D data\n",
    "ts = 4 # number of timesteps want to integrate over\n",
    "nd = int(nodays*ts)\n",
    "totalt = np.arange(nd)# total number of timesteps \n",
    "tbk = np.asarray(np.split(totalt, nodays))\n",
    "print('takes the average over ' + str(nodays) + ' periods of ' + str(ts)+ ' hour averages')    "
   ]
  },
  {
   "cell_type": "code",
   "execution_count": 29,
   "id": "20403182-fd6d-4ac4-92b8-7ca3a58d0e78",
   "metadata": {},
   "outputs": [
    {
     "name": "stdout",
     "output_type": "stream",
     "text": [
      "ua\n",
      "Finished ua at large295\n",
      "va\n",
      "Finished va at large295\n",
      "pa\n",
      "Finished pa at large295\n",
      "ice\n",
      "Finished ice at large295\n",
      "clw\n",
      "Finished clw at large295\n",
      "wa\n",
      "Finished wa at large295\n",
      "hus\n",
      "Finished hus at large295\n",
      "hur\n",
      "Finished hur at large295\n",
      "tntr\n",
      "Finished tntr at large295\n",
      "ta\n",
      "Finished ta at large295\n",
      "ua\n",
      "Finished ua at large300\n",
      "va\n",
      "Finished va at large300\n",
      "pa\n",
      "Finished pa at large300\n",
      "ice\n",
      "Finished ice at large300\n",
      "clw\n",
      "Finished clw at large300\n",
      "wa\n",
      "Finished wa at large300\n",
      "hus\n",
      "Finished hus at large300\n",
      "hur\n",
      "Finished hur at large300\n",
      "tntr\n",
      "Finished tntr at large300\n",
      "ta\n",
      "Finished ta at large300\n",
      "ua\n",
      "Finished ua at large305\n",
      "va\n",
      "Finished va at large305\n",
      "pa\n",
      "Finished pa at large305\n",
      "ice\n",
      "Finished ice at large305\n",
      "clw\n",
      "Finished clw at large305\n",
      "wa\n",
      "Finished wa at large305\n",
      "hus\n",
      "Finished hus at large305\n",
      "hur\n",
      "Finished hur at large305\n",
      "tntr\n",
      "Finished tntr at large305\n",
      "ta\n",
      "Finished ta at large305\n"
     ]
    }
   ],
   "source": [
    "vars = ['ua', 'va', 'pa','ice', 'clw','wa','hus','hur', 'tntr', 'ta']\n",
    "\n",
    "dp = '/home/users/arm33/RCEMIP/'+ model + '/processed_new'\n",
    "\n",
    "for temp in temps:\n",
    "\n",
    "    datapath = '/badc/rcemip/data/'+ model +'/RCE_' + temp + '/3D/'\n",
    "    for var in vars:\n",
    "        print(var)\n",
    "        \n",
    "        nc = Dataset( datapath + model + '_RCE_' + temp + '_3D_' + var + '.nc', 'r')\n",
    "        \n",
    "        var_bk = np.empty((nodays, ny, nx, levsize))\n",
    "            \n",
    "        for t in range(nodays):            \n",
    "            var_full = np.nanmean(np.copy(nc.variables[var][tbk[t,0]:tbk[t,-1]+1,]), axis  = 0)\n",
    "            for i in range(ny):\n",
    "                for j in range(nx):\n",
    "                    for k in range(levsize):\n",
    "                        var_bk[t,i,j,k] = np.nanmean(var_full[ybk[i,0]:ybk[i,-1]+1, xbk[j,0]: xbk[j,-1]+1, k])\n",
    "        var_bk.dump(dp + '/3D/' + temp + var + '_profile_25d.npy')\n",
    "    \n",
    "        print('Finished ' + var + ' at ' + temp)\n",
    "\n",
    "\n"
   ]
  },
  {
   "cell_type": "markdown",
   "id": "aa171f5c-da96-41c0-a12d-7f6ee9548ec7",
   "metadata": {},
   "source": [
    "## extra code to swap axis and resave"
   ]
  },
  {
   "cell_type": "code",
   "execution_count": 6,
   "id": "92ba870c-e1a5-4504-8daa-3c6d7be23e52",
   "metadata": {},
   "outputs": [],
   "source": [
    "# swap axis and resave\n",
    "def zswap(arr):\n",
    "    \"\"\"for models where the vertical axis is in position 3 not position 1\"\"\"\n",
    "    arr = np.swapaxes(arr, 1, 3)\n",
    "    return np.swapaxes(arr, 2,3)\n",
    "\n",
    "dp = '/home/users/arm33/RCEMIP/'+ model +'/processed_new/3D/'\n",
    "temps = [ 'large295','large300', 'large305']\n",
    "vars = ['ua', 'va', 'pa','ice', 'clw','wa','hus','hur', 'tntr', 'ta']\n",
    "\n",
    "for temp in temps:\n",
    "    for var in vars:\n",
    "        arr = np.load(dp+ '/' + temp + var +'_profile_25d.npy', allow_pickle = True)\n",
    "        arr = zswap(arr)\n",
    "\n",
    "        arr.dump(dp + temp + var + '_profile_25d.npy')\n",
    "        "
   ]
  },
  {
   "cell_type": "markdown",
   "id": "0c286689-6f77-41be-8ec5-667aed9a0178",
   "metadata": {
    "tags": []
   },
   "source": [
    "## Cloud fraction\n",
    "\n",
    "This follows the procedure described in Wing et al., 2020\n",
    "\n",
    "1. Read in clw, cli ta and pa for each day (four time steps)\n",
    "2. Take the mean for that 24 hours\n",
    "3. Calculate the saturation mixing ratio and the cloud condensate (= cli + clw)\n",
    "4. for each 32 x 32 block, calculate the proportion of points where either the cloud condensate is grater than 0.00001, or greater than the 0.01 x the saturation mixing ratio"
   ]
  },
  {
   "cell_type": "code",
   "execution_count": 9,
   "id": "c5c2a208-753d-4e50-83b0-93a1e6a9baf2",
   "metadata": {
    "tags": []
   },
   "outputs": [
    {
     "name": "stdout",
     "output_type": "stream",
     "text": [
      "takes the average over 25 periods of 4 hour averages\n"
     ]
    }
   ],
   "source": [
    "#time params for 3D data\n",
    "ts = 4 # number of timesteps want to integrate over\n",
    "nd = int(nodays*ts)\n",
    "totalt = np.arange(nd)# total number of timesteps \n",
    "tbk = np.asarray(np.split(totalt, nodays))\n",
    "print('takes the average over ' + str(nodays) + ' periods of ' + str(ts)+ ' hour averages')    "
   ]
  },
  {
   "cell_type": "code",
   "execution_count": 19,
   "id": "86d20751-fbac-4b5c-b4c6-a14fda2724ad",
   "metadata": {},
   "outputs": [
    {
     "name": "stdout",
     "output_type": "stream",
     "text": [
      "large295\n",
      "0\n",
      "1\n",
      "2\n",
      "3\n",
      "4\n",
      "5\n",
      "6\n",
      "7\n",
      "8\n",
      "9\n",
      "10\n",
      "11\n",
      "12\n",
      "13\n",
      "14\n",
      "15\n",
      "16\n",
      "17\n",
      "18\n",
      "19\n",
      "20\n",
      "21\n",
      "22\n",
      "23\n",
      "24\n",
      "(25, 128, 1984, 75) (25, 128, 1984, 75)\n",
      "(25, 75, 128, 1984) (25, 75, 128, 1984)\n",
      "0\n",
      "1\n",
      "2\n",
      "3\n",
      "4\n",
      "5\n",
      "6\n",
      "7\n",
      "8\n",
      "9\n",
      "10\n",
      "11\n",
      "12\n",
      "13\n",
      "14\n",
      "15\n",
      "16\n",
      "17\n",
      "18\n",
      "19\n",
      "20\n",
      "21\n",
      "22\n",
      "23\n",
      "24\n",
      "large300\n",
      "0\n",
      "1\n",
      "2\n",
      "3\n",
      "4\n",
      "5\n",
      "6\n",
      "7\n",
      "8\n",
      "9\n",
      "10\n",
      "11\n",
      "12\n",
      "13\n",
      "14\n",
      "15\n",
      "16\n",
      "17\n",
      "18\n",
      "19\n",
      "20\n",
      "21\n",
      "22\n",
      "23\n",
      "24\n",
      "(25, 128, 1984, 75) (25, 128, 1984, 75)\n",
      "(25, 75, 128, 1984) (25, 75, 128, 1984)\n",
      "0\n",
      "1\n",
      "2\n",
      "3\n",
      "4\n",
      "5\n",
      "6\n",
      "7\n",
      "8\n",
      "9\n",
      "10\n",
      "11\n",
      "12\n",
      "13\n",
      "14\n",
      "15\n",
      "16\n",
      "17\n",
      "18\n",
      "19\n",
      "20\n",
      "21\n",
      "22\n",
      "23\n",
      "24\n",
      "large305\n",
      "0\n",
      "1\n",
      "2\n",
      "3\n",
      "4\n",
      "5\n",
      "6\n",
      "7\n",
      "8\n",
      "9\n",
      "10\n",
      "11\n",
      "12\n",
      "13\n",
      "14\n",
      "15\n",
      "16\n",
      "17\n",
      "18\n",
      "19\n",
      "20\n",
      "21\n",
      "22\n",
      "23\n",
      "24\n",
      "(25, 128, 1984, 75) (25, 128, 1984, 75)\n",
      "(25, 75, 128, 1984) (25, 75, 128, 1984)\n",
      "0\n",
      "1\n",
      "2\n",
      "3\n",
      "4\n",
      "5\n",
      "6\n",
      "7\n",
      "8\n",
      "9\n",
      "10\n",
      "11\n",
      "12\n",
      "13\n",
      "14\n",
      "15\n",
      "16\n",
      "17\n",
      "18\n",
      "19\n",
      "20\n",
      "21\n",
      "22\n",
      "23\n",
      "24\n"
     ]
    }
   ],
   "source": [
    "dp = '/home/users/arm33/RCEMIP/' + model + '/processed_new'\n",
    "\n",
    "for temp in temps:\n",
    "    datapath = '/badc/rcemip/data/'+ model +'/RCE_' + temp + '/3D/'\n",
    "    print(temp)\n",
    "    cldfrac = np.zeros((nodays, levsize, ny, nx))\n",
    "    satmixr =np.empty((nodays, len(y), len(x), levsize))\n",
    "    cloudcon = np.empty((nodays, len(y), len(x), levsize))\n",
    "\n",
    "    for t in range(nodays):\n",
    "        print(t)\n",
    "        nc = Dataset( datapath + model + '_RCE_' + temp + '_3D_clw.nc')\n",
    "        clw = np.mean(nc.variables['clw'][tbk[t,0]:tbk[t,-1]+1, ], axis = 0)\n",
    "        nc = Dataset( datapath + model + '_RCE_' + temp + '_3D_ice.nc')\n",
    "        cli = np.mean(nc.variables['ice'][tbk[t,0]:tbk[t,-1]+1, ], axis = 0)\n",
    "        nc = Dataset( datapath + model + '_RCE_' + temp + '_3D_pa.nc')\n",
    "        pa = np.mean(nc.variables['pa'][tbk[t,0]:tbk[t,-1]+1, ], axis = 0)\n",
    "        nc = Dataset( datapath + model + '_RCE_' + temp + '_3D_ta.nc')\n",
    "        ta = np.mean(nc.variables['ta'][tbk[t,0]:tbk[t,-1]+1, ], axis = 0)\n",
    "\n",
    "        pa = np.asarray(pa) * units.pascal        \n",
    "        ta = np.asarray(ta) * units.K\n",
    "\n",
    "        satmixr[t, ] = metpy.calc.saturation_mixing_ratio(pa, ta)\n",
    "        cloudcon[t,]= clw + cli\n",
    "    \n",
    "    print(np.shape(satmixr), np.shape(cloudcon))\n",
    "    satmixr = zswap(satmixr) # as levels in 4th dimension\n",
    "    cloudcon = zswap(cloudcon)\n",
    "    print(np.shape(satmixr), np.shape(cloudcon))\n",
    "    \n",
    "    for t in range(nodays):\n",
    "        print(t)\n",
    "        for k in range(levsize):\n",
    "            for i in range(ny):\n",
    "                for j in range(nx):\n",
    "                    arr = cloudcon[t,k, ybk[i,0]:ybk[i,-1]+1, xbk[j,0]: xbk[j,-1]+1].flatten()\n",
    "                    sm = satmixr[t,k, ybk[i,0]:ybk[i,-1]+1, xbk[j,0]: xbk[j,-1]+1].flatten()\n",
    "                    count = 0\n",
    "                    for r in range(32**2):\n",
    "                        if arr[r] > 0.00001:\n",
    "                            count +=1\n",
    "                        elif arr[r] > 0.01*sm[r]:\n",
    "                            count +=1 \n",
    "\n",
    "                    cldfrac[t,k, i , j ] = count/32**2\n",
    "\n",
    "    cldfrac.dump(dp + '/3D/'+ temp + 'cldfrac_profile_25d.npy')"
   ]
  },
  {
   "cell_type": "code",
   "execution_count": 13,
   "id": "7694e07c-1c4b-48de-bb62-8a036ec92cf0",
   "metadata": {},
   "outputs": [
    {
     "name": "stdout",
     "output_type": "stream",
     "text": [
      "0\n",
      "1\n",
      "2\n",
      "3\n",
      "4\n",
      "5\n",
      "6\n",
      "7\n",
      "8\n",
      "9\n",
      "10\n",
      "11\n",
      "12\n",
      "13\n",
      "14\n",
      "15\n",
      "16\n",
      "17\n",
      "18\n",
      "19\n",
      "20\n",
      "21\n",
      "22\n",
      "23\n",
      "24\n"
     ]
    },
    {
     "ename": "FileNotFoundError",
     "evalue": "[Errno 2] No such file or directory: '/home/users/arm33/RCEMIP/UCLA-CRM/processed//3D/large295cldfrac_profile_25d.npy'",
     "output_type": "error",
     "traceback": [
      "\u001b[0;31m---------------------------------------------------------------------------\u001b[0m",
      "\u001b[0;31mFileNotFoundError\u001b[0m                         Traceback (most recent call last)",
      "\u001b[0;32m<ipython-input-13-57eff4a55878>\u001b[0m in \u001b[0;36m<module>\u001b[0;34m\u001b[0m\n\u001b[1;32m     15\u001b[0m                 \u001b[0mcldfrac\u001b[0m\u001b[0;34m[\u001b[0m\u001b[0mt\u001b[0m\u001b[0;34m,\u001b[0m\u001b[0mk\u001b[0m\u001b[0;34m,\u001b[0m \u001b[0mi\u001b[0m \u001b[0;34m,\u001b[0m \u001b[0mj\u001b[0m \u001b[0;34m]\u001b[0m \u001b[0;34m=\u001b[0m \u001b[0mcount\u001b[0m\u001b[0;34m/\u001b[0m\u001b[0;36m32\u001b[0m\u001b[0;34m**\u001b[0m\u001b[0;36m2\u001b[0m\u001b[0;34m\u001b[0m\u001b[0;34m\u001b[0m\u001b[0m\n\u001b[1;32m     16\u001b[0m \u001b[0;34m\u001b[0m\u001b[0m\n\u001b[0;32m---> 17\u001b[0;31m \u001b[0mcldfrac\u001b[0m\u001b[0;34m.\u001b[0m\u001b[0mdump\u001b[0m\u001b[0;34m(\u001b[0m\u001b[0mdp\u001b[0m \u001b[0;34m+\u001b[0m \u001b[0;34m'/3D/'\u001b[0m\u001b[0;34m+\u001b[0m \u001b[0mtemp\u001b[0m \u001b[0;34m+\u001b[0m \u001b[0;34m'cldfrac_profile_25d.npy'\u001b[0m\u001b[0;34m)\u001b[0m\u001b[0;34m\u001b[0m\u001b[0;34m\u001b[0m\u001b[0m\n\u001b[0m",
      "\u001b[0;32m~/nb-venvs/venv-notebook/lib/python3.7/site-packages/numpy/core/_methods.py\u001b[0m in \u001b[0;36m_dump\u001b[0;34m(self, file, protocol)\u001b[0m\n\u001b[1;32m    254\u001b[0m         \u001b[0mctx\u001b[0m \u001b[0;34m=\u001b[0m \u001b[0mcontextlib_nullcontext\u001b[0m\u001b[0;34m(\u001b[0m\u001b[0mfile\u001b[0m\u001b[0;34m)\u001b[0m\u001b[0;34m\u001b[0m\u001b[0;34m\u001b[0m\u001b[0m\n\u001b[1;32m    255\u001b[0m     \u001b[0;32melse\u001b[0m\u001b[0;34m:\u001b[0m\u001b[0;34m\u001b[0m\u001b[0;34m\u001b[0m\u001b[0m\n\u001b[0;32m--> 256\u001b[0;31m         \u001b[0mctx\u001b[0m \u001b[0;34m=\u001b[0m \u001b[0mopen\u001b[0m\u001b[0;34m(\u001b[0m\u001b[0mos_fspath\u001b[0m\u001b[0;34m(\u001b[0m\u001b[0mfile\u001b[0m\u001b[0;34m)\u001b[0m\u001b[0;34m,\u001b[0m \u001b[0;34m\"wb\"\u001b[0m\u001b[0;34m)\u001b[0m\u001b[0;34m\u001b[0m\u001b[0;34m\u001b[0m\u001b[0m\n\u001b[0m\u001b[1;32m    257\u001b[0m     \u001b[0;32mwith\u001b[0m \u001b[0mctx\u001b[0m \u001b[0;32mas\u001b[0m \u001b[0mf\u001b[0m\u001b[0;34m:\u001b[0m\u001b[0;34m\u001b[0m\u001b[0;34m\u001b[0m\u001b[0m\n\u001b[1;32m    258\u001b[0m         \u001b[0mpickle\u001b[0m\u001b[0;34m.\u001b[0m\u001b[0mdump\u001b[0m\u001b[0;34m(\u001b[0m\u001b[0mself\u001b[0m\u001b[0;34m,\u001b[0m \u001b[0mf\u001b[0m\u001b[0;34m,\u001b[0m \u001b[0mprotocol\u001b[0m\u001b[0;34m=\u001b[0m\u001b[0mprotocol\u001b[0m\u001b[0;34m)\u001b[0m\u001b[0;34m\u001b[0m\u001b[0;34m\u001b[0m\u001b[0m\n",
      "\u001b[0;31mFileNotFoundError\u001b[0m: [Errno 2] No such file or directory: '/home/users/arm33/RCEMIP/UCLA-CRM/processed//3D/large295cldfrac_profile_25d.npy'"
     ]
    }
   ],
   "source": [
    "for t in range(nodays):\n",
    "    print(t)\n",
    "    for k in range(levsize):\n",
    "        for i in range(ny):\n",
    "            for j in range(nx):\n",
    "                arr = cloudcon[t,k, ybk[i,0]:ybk[i,-1]+1, xbk[j,0]: xbk[j,-1]+1].flatten()\n",
    "                sm = satmixr[t,k, ybk[i,0]:ybk[i,-1]+1, xbk[j,0]: xbk[j,-1]+1].flatten()\n",
    "                count = 0\n",
    "                for r in range(32**2):\n",
    "                    if arr[r] > 0.00001:\n",
    "                        count +=1\n",
    "                    elif arr[r] > 0.01*sm[r]:\n",
    "                        count +=1 \n",
    "\n",
    "                cldfrac[t,k, i , j ] = count/32**2\n",
    "\n",
    "cldfrac.dump(dp + '/3D/'+ temp + 'cldfrac_profile_25d.npy')"
   ]
  },
  {
   "cell_type": "code",
   "execution_count": 14,
   "id": "d338c88f-259c-421c-9404-f06ba9c4a579",
   "metadata": {},
   "outputs": [],
   "source": [
    "dp = '/home/users/arm33/RCEMIP/' + model + '/processed_new'\n",
    "cldfrac.dump(dp + '/3D/'+ temp + 'cldfrac_profile_25d.npy')"
   ]
  },
  {
   "cell_type": "code",
   "execution_count": 17,
   "id": "df5647fb-57fd-4072-8b23-cca43080afa8",
   "metadata": {},
   "outputs": [
    {
     "data": {
      "text/plain": [
       "[<matplotlib.lines.Line2D at 0x7f0e56662908>]"
      ]
     },
     "execution_count": 17,
     "metadata": {},
     "output_type": "execute_result"
    },
    {
     "data": {
      "image/png": "[encoded data removed]",
      "text/plain": [
       "<Figure size 432x288 with 1 Axes>"
      ]
     },
     "metadata": {
      "needs_background": "light"
     },
     "output_type": "display_data"
    }
   ],
   "source": [
    "plt.plot(np.mean(cldfrac[8,], axis = (1,2)), range(75))\n",
    "\n"
   ]
  },
  {
   "cell_type": "code",
   "execution_count": 8,
   "id": "8ea15ba1-e6b8-41cf-addb-680de46e57e0",
   "metadata": {},
   "outputs": [
    {
     "name": "stdout",
     "output_type": "stream",
     "text": [
      "-----------large305----------\n",
      "0\n",
      "1\n",
      "2\n",
      "3\n",
      "4\n",
      "5\n",
      "6\n",
      "7\n",
      "8\n",
      "9\n",
      "10\n",
      "11\n",
      "12\n",
      "13\n",
      "14\n",
      "15\n",
      "16\n",
      "17\n",
      "18\n",
      "19\n",
      "20\n",
      "21\n",
      "22\n",
      "23\n",
      "24\n"
     ]
    }
   ],
   "source": [
    "#cloud fraction\n",
    "dp = '/home/users/arm33/RCEMIP/'+ model + '/processed_new'  \n",
    "\n",
    "nd = nodays*ts\n",
    "\n",
    "for temp in ['large305']:#temps:\n",
    "    print('-----------' + temp + '----------')\n",
    "    #calc 24 hour means of cloud condensate and sat mix ratio\n",
    "    satmixr =np.empty((nodays, levsize,len(y_orig), len(x_orig) ))\n",
    "    cloudcon = np.empty((nodays, levsize,len(y_orig), len(x_orig) ))\n",
    "    datapath = '/badc/rcemip/data/'+ model +'/RCE_' + temp + '/3D/'\n",
    "    for t in range(nodays):       \n",
    "        nc = Dataset( datapath + model + '_RCE_' + temp + '_3D_clw_last25d.nc')\n",
    "        clw = np.mean(nc.variables['clw'][tbk[t,0]:tbk[t,-1]+1, ], axis = 0)\n",
    "        nc.close()\n",
    "        nc = Dataset( datapath + model + '_RCE_' + temp + '_3D_cli_last25d.nc')\n",
    "        cli = np.mean(nc.variables['cli'][tbk[t,0]:tbk[t,-1]+1, ], axis = 0)\n",
    "        nc.close()\n",
    "        nc = Dataset( datapath + model + '_RCE_' + temp + '_3D_pa_last25d.nc')\n",
    "        pa = np.mean(nc.variables['pa'][tbk[t,0]:tbk[t,-1]+1,], axis = 0)\n",
    "        nc.close()\n",
    "        pa = np.asarray(pa) * units.pascal\n",
    "        nc = Dataset( datapath + model + '_RCE_' + temp + '_3D_ta_last25d.nc')\n",
    "        ta = np.mean(nc.variables['ta'][tbk[t,0]:tbk[t,-1]+1,], axis =0)\n",
    "        nc.close()\n",
    "        ta = np.asarray(ta) * units.K\n",
    "        satmixr[t, ] = metpy.calc.saturation_mixing_ratio(pa, ta)\n",
    "        cloudcon[t,]= clw + cli\n",
    "        \n",
    "\n",
    "    #calc cloud frac\n",
    "    cldfrac = np.zeros((nodays, levsize, ny, nx))\n",
    "    for t in range(nodays):\n",
    "        print(t)\n",
    "        for k in range(levsize):\n",
    "            for i in range(ny):\n",
    "                if i == ny-1: # check if it's the last block, if yes then use all remaining gridpoints\n",
    "                    endy = y_orig[-1]+1\n",
    "                else:\n",
    "                    endy = ybk[i,-1]+1\n",
    "                for j in range(nx): # ditto\n",
    "                    if j == nx-1:\n",
    "                        endx = x_orig[-1]+1\n",
    "                    else:\n",
    "                        endx = xbk[j,-1]+1\n",
    "\n",
    "                    cc = cloudcon[t,k, ybk[i,0]:endy, xbk[j,0]: endx].flatten()\n",
    "                    sm = satmixr[t,k, ybk[i,0]:endy, xbk[j,0]: endx].flatten()\n",
    "                    no_grid_points = len(sm)\n",
    "                    count = 0\n",
    "                    for r in range(no_grid_points):\n",
    "                        if cc[r] > 0.00001:\n",
    "                            count +=1\n",
    "                        elif cc[r] > 0.01*sm[r]:\n",
    "                            count +=1 \n",
    "\n",
    "                    cldfrac[t,k, i , j ] = count/no_grid_points\n",
    "\n",
    "    cldfrac.dump(dp + '/3D/'+ temp + 'cldfrac_profile_25d.npy')\n",
    "    "
   ]
  },
  {
   "cell_type": "code",
   "execution_count": null,
   "id": "69840d44-3795-4d4d-8189-bfe55d594890",
   "metadata": {},
   "outputs": [],
   "source": []
  }
 ],
 "metadata": {
  "kernelspec": {
   "display_name": "Python 3 + Jaspy",
   "language": "python",
   "name": "jaspy"
  },
  "language_info": {
   "codemirror_mode": {
    "name": "ipython",
    "version": 3
   },
   "file_extension": ".py",
   "mimetype": "text/x-python",
   "name": "python",
   "nbconvert_exporter": "python",
   "pygments_lexer": "ipython3",
   "version": "3.10.5"
  }
 },
 "nbformat": 4,
 "nbformat_minor": 5
}
