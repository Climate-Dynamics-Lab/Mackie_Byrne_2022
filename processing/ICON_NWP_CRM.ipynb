{
 "cells": [
  {
   "cell_type": "markdown",
   "id": "db62d5ab-c06d-4ff6-ae0d-f564ae72a7a3",
   "metadata": {},
   "source": [
    "# ICON_NWP_CRM time and spatial averaging\n",
    "Anna Mackie, 2022\n",
    "\n",
    "Processing for long channel simulations from CM1. Three SSTs (295, 300 and 305K). Please see Wing et al. (2018) for simulation and variable descriptions.\n",
    "\n",
    "This script, for different data:\n",
    "- reads in data from CEDA archive\n",
    "- takes the average over 24 hours and 32 x 32 grid points (equivilent to 96 km x 96km). NB last blocks may have more grid points to ensure all grid points used\n",
    "- saves as npy files\n",
    "\n",
    "This is done for a number of variables. The code is grouped for\n",
    "1. 2D variables\n",
    "2. 3D variables\n",
    "3. Cloud fraction\n",
    "\n",
    "Cloud fraction follows the method of Wing et al., (2020) which uses a threshold value for cloud condensate."
   ]
  },
  {
   "cell_type": "code",
   "execution_count": 1,
   "id": "938e2b0c-2ec7-4038-9cda-bdd025ee731b",
   "metadata": {},
   "outputs": [
    {
     "name": "stdout",
     "output_type": "stream",
     "text": [
      "/home/users/arm33/nb-venvs/metpy_venv/lib/python3.10/site-packages/metpy/__init__.py\n"
     ]
    }
   ],
   "source": [
    "# activate virtual environmnet required for metpy\n",
    "import sys\n",
    "import pathlib\n",
    "import platform\n",
    "venv_path = '~/nb-venvs/metpy_venv'\n",
    "sys.path.append(str(pathlib.Path(f'{venv_path}/lib/python{platform.python_version_tuple()[0]}.{platform.python_version_tuple()[1]}/site-packages/').expanduser()))\n",
    "\n",
    "import metpy\n",
    "print(metpy.__file__)"
   ]
  },
  {
   "cell_type": "code",
   "execution_count": 2,
   "id": "2aed78ef-be0b-46e1-931d-289d82184f91",
   "metadata": {},
   "outputs": [
    {
     "name": "stderr",
     "output_type": "stream",
     "text": [
      "/opt/jaspy/lib/python3.10/site-packages/_distutils_hack/__init__.py:33: UserWarning: Setuptools is replacing distutils.\n",
      "  warnings.warn(\"Setuptools is replacing distutils.\")\n",
      "WARNING: pip is being invoked by an old script wrapper. This will fail in a future version of pip.\n",
      "Please see https://github.com/pypa/pip/issues/5599 for advice on fixing the underlying issue.\n",
      "To avoid this problem you can invoke Python with '-m pip' instead of running pip directly.\n"
     ]
    },
    {
     "data": {
      "text/html": [
       "<pre style=\"white-space:pre;overflow-x:auto;line-height:normal;font-family:Menlo,'DejaVu Sans Mono',consolas,'Courier New',monospace\">Requirement already satisfied: metpy in /home/users/arm33/nb-venvs/metpy_venv/lib/python3.10/site-packages (1.3.1)\n",
       "</pre>\n"
      ],
      "text/plain": [
       "Requirement already satisfied: metpy in /home/users/arm33/nb-venvs/metpy_venv/lib/python3.10/site-packages (1.3.1)\n"
      ]
     },
     "metadata": {},
     "output_type": "display_data"
    },
    {
     "data": {
      "text/html": [
       "<pre style=\"white-space:pre;overflow-x:auto;line-height:normal;font-family:Menlo,'DejaVu Sans Mono',consolas,'Courier New',monospace\">Requirement already satisfied: numpy&gt;=1.18.0 in /opt/jaspy/lib/python3.10/site-packages (from metpy) (1.22.4)\n",
       "</pre>\n"
      ],
      "text/plain": [
       "Requirement already satisfied: numpy>=1.18.0 in /opt/jaspy/lib/python3.10/site-packages (from metpy) (1.22.4)\n"
      ]
     },
     "metadata": {},
     "output_type": "display_data"
    },
    {
     "data": {
      "text/html": [
       "<pre style=\"white-space:pre;overflow-x:auto;line-height:normal;font-family:Menlo,'DejaVu Sans Mono',consolas,'Courier New',monospace\">Requirement already satisfied: matplotlib&gt;=3.3.0 in /opt/jaspy/lib/python3.10/site-packages (from metpy) (3.5.2)\n",
       "</pre>\n"
      ],
      "text/plain": [
       "Requirement already satisfied: matplotlib>=3.3.0 in /opt/jaspy/lib/python3.10/site-packages (from metpy) (3.5.2)\n"
      ]
     },
     "metadata": {},
     "output_type": "display_data"
    },
    {
     "data": {
      "text/html": [
       "<pre style=\"white-space:pre;overflow-x:auto;line-height:normal;font-family:Menlo,'DejaVu Sans Mono',consolas,'Courier New',monospace\">Requirement already satisfied: pooch&gt;=1.2.0 in /opt/jaspy/lib/python3.10/site-packages (from metpy) (1.6.0)\n",
       "</pre>\n"
      ],
      "text/plain": [
       "Requirement already satisfied: pooch>=1.2.0 in /opt/jaspy/lib/python3.10/site-packages (from metpy) (1.6.0)\n"
      ]
     },
     "metadata": {},
     "output_type": "display_data"
    },
    {
     "data": {
      "text/html": [
       "<pre style=\"white-space:pre;overflow-x:auto;line-height:normal;font-family:Menlo,'DejaVu Sans Mono',consolas,'Courier New',monospace\">Requirement already satisfied: pint&gt;=0.10.1 in /home/users/arm33/nb-venvs/metpy_venv/lib/python3.10/site-packages (from metpy) (0.19.2)\n",
       "</pre>\n"
      ],
      "text/plain": [
       "Requirement already satisfied: pint>=0.10.1 in /home/users/arm33/nb-venvs/metpy_venv/lib/python3.10/site-packages (from metpy) (0.19.2)\n"
      ]
     },
     "metadata": {},
     "output_type": "display_data"
    },
    {
     "data": {
      "text/html": [
       "<pre style=\"white-space:pre;overflow-x:auto;line-height:normal;font-family:Menlo,'DejaVu Sans Mono',consolas,'Courier New',monospace\">Requirement already satisfied: traitlets&gt;=4.3.0 in /opt/jaspy/lib/python3.10/site-packages (from metpy) (5.3.0)\n",
       "</pre>\n"
      ],
      "text/plain": [
       "Requirement already satisfied: traitlets>=4.3.0 in /opt/jaspy/lib/python3.10/site-packages (from metpy) (5.3.0)\n"
      ]
     },
     "metadata": {},
     "output_type": "display_data"
    },
    {
     "data": {
      "text/html": [
       "<pre style=\"white-space:pre;overflow-x:auto;line-height:normal;font-family:Menlo,'DejaVu Sans Mono',consolas,'Courier New',monospace\">Requirement already satisfied: scipy&gt;=1.4.0 in /opt/jaspy/lib/python3.10/site-packages (from metpy) (1.8.1)\n",
       "</pre>\n"
      ],
      "text/plain": [
       "Requirement already satisfied: scipy>=1.4.0 in /opt/jaspy/lib/python3.10/site-packages (from metpy) (1.8.1)\n"
      ]
     },
     "metadata": {},
     "output_type": "display_data"
    },
    {
     "data": {
      "text/html": [
       "<pre style=\"white-space:pre;overflow-x:auto;line-height:normal;font-family:Menlo,'DejaVu Sans Mono',consolas,'Courier New',monospace\">Requirement already satisfied: pandas&gt;=1.0.0 in /opt/jaspy/lib/python3.10/site-packages (from metpy) (1.4.3)\n",
       "</pre>\n"
      ],
      "text/plain": [
       "Requirement already satisfied: pandas>=1.0.0 in /opt/jaspy/lib/python3.10/site-packages (from metpy) (1.4.3)\n"
      ]
     },
     "metadata": {},
     "output_type": "display_data"
    },
    {
     "data": {
      "text/html": [
       "<pre style=\"white-space:pre;overflow-x:auto;line-height:normal;font-family:Menlo,'DejaVu Sans Mono',consolas,'Courier New',monospace\">Requirement already satisfied: xarray&gt;=0.14.1 in /opt/jaspy/lib/python3.10/site-packages (from metpy) (2022.3.0)\n",
       "</pre>\n"
      ],
      "text/plain": [
       "Requirement already satisfied: xarray>=0.14.1 in /opt/jaspy/lib/python3.10/site-packages (from metpy) (2022.3.0)\n"
      ]
     },
     "metadata": {},
     "output_type": "display_data"
    },
    {
     "data": {
      "text/html": [
       "<pre style=\"white-space:pre;overflow-x:auto;line-height:normal;font-family:Menlo,'DejaVu Sans Mono',consolas,'Courier New',monospace\">Requirement already satisfied: pyproj&gt;=2.5.0 in /opt/jaspy/lib/python3.10/site-packages (from metpy) (3.3.0)\n",
       "</pre>\n"
      ],
      "text/plain": [
       "Requirement already satisfied: pyproj>=2.5.0 in /opt/jaspy/lib/python3.10/site-packages (from metpy) (3.3.0)\n"
      ]
     },
     "metadata": {},
     "output_type": "display_data"
    },
    {
     "data": {
      "text/html": [
       "<pre style=\"white-space:pre;overflow-x:auto;line-height:normal;font-family:Menlo,'DejaVu Sans Mono',consolas,'Courier New',monospace\">Requirement already satisfied: pyparsing&gt;=2.2.1 in /opt/jaspy/lib/python3.10/site-packages (from matplotlib&gt;=3.3.0-&gt;metpy) (3.0.9)\n",
       "</pre>\n"
      ],
      "text/plain": [
       "Requirement already satisfied: pyparsing>=2.2.1 in /opt/jaspy/lib/python3.10/site-packages (from matplotlib>=3.3.0->metpy) (3.0.9)\n"
      ]
     },
     "metadata": {},
     "output_type": "display_data"
    },
    {
     "data": {
      "text/html": [
       "<pre style=\"white-space:pre;overflow-x:auto;line-height:normal;font-family:Menlo,'DejaVu Sans Mono',consolas,'Courier New',monospace\">Requirement already satisfied: python-dateutil&gt;=2.7 in /opt/jaspy/lib/python3.10/site-packages (from matplotlib&gt;=3.3.0-&gt;metpy) (2.8.2)\n",
       "</pre>\n"
      ],
      "text/plain": [
       "Requirement already satisfied: python-dateutil>=2.7 in /opt/jaspy/lib/python3.10/site-packages (from matplotlib>=3.3.0->metpy) (2.8.2)\n"
      ]
     },
     "metadata": {},
     "output_type": "display_data"
    },
    {
     "data": {
      "text/html": [
       "<pre style=\"white-space:pre;overflow-x:auto;line-height:normal;font-family:Menlo,'DejaVu Sans Mono',consolas,'Courier New',monospace\">Requirement already satisfied: fonttools&gt;=4.22.0 in /opt/jaspy/lib/python3.10/site-packages (from matplotlib&gt;=3.3.0-&gt;metpy) (4.34.4)\n",
       "</pre>\n"
      ],
      "text/plain": [
       "Requirement already satisfied: fonttools>=4.22.0 in /opt/jaspy/lib/python3.10/site-packages (from matplotlib>=3.3.0->metpy) (4.34.4)\n"
      ]
     },
     "metadata": {},
     "output_type": "display_data"
    },
    {
     "data": {
      "text/html": [
       "<pre style=\"white-space:pre;overflow-x:auto;line-height:normal;font-family:Menlo,'DejaVu Sans Mono',consolas,'Courier New',monospace\">Requirement already satisfied: pillow&gt;=6.2.0 in /opt/jaspy/lib/python3.10/site-packages (from matplotlib&gt;=3.3.0-&gt;metpy) (9.2.0)\n",
       "</pre>\n"
      ],
      "text/plain": [
       "Requirement already satisfied: pillow>=6.2.0 in /opt/jaspy/lib/python3.10/site-packages (from matplotlib>=3.3.0->metpy) (9.2.0)\n"
      ]
     },
     "metadata": {},
     "output_type": "display_data"
    },
    {
     "data": {
      "text/html": [
       "<pre style=\"white-space:pre;overflow-x:auto;line-height:normal;font-family:Menlo,'DejaVu Sans Mono',consolas,'Courier New',monospace\">Requirement already satisfied: kiwisolver&gt;=1.0.1 in /opt/jaspy/lib/python3.10/site-packages (from matplotlib&gt;=3.3.0-&gt;metpy) (1.4.4)\n",
       "</pre>\n"
      ],
      "text/plain": [
       "Requirement already satisfied: kiwisolver>=1.0.1 in /opt/jaspy/lib/python3.10/site-packages (from matplotlib>=3.3.0->metpy) (1.4.4)\n"
      ]
     },
     "metadata": {},
     "output_type": "display_data"
    },
    {
     "data": {
      "text/html": [
       "<pre style=\"white-space:pre;overflow-x:auto;line-height:normal;font-family:Menlo,'DejaVu Sans Mono',consolas,'Courier New',monospace\">Requirement already satisfied: packaging&gt;=20.0 in /opt/jaspy/lib/python3.10/site-packages (from matplotlib&gt;=3.3.0-&gt;metpy) (21.3)\n",
       "</pre>\n"
      ],
      "text/plain": [
       "Requirement already satisfied: packaging>=20.0 in /opt/jaspy/lib/python3.10/site-packages (from matplotlib>=3.3.0->metpy) (21.3)\n"
      ]
     },
     "metadata": {},
     "output_type": "display_data"
    },
    {
     "data": {
      "text/html": [
       "<pre style=\"white-space:pre;overflow-x:auto;line-height:normal;font-family:Menlo,'DejaVu Sans Mono',consolas,'Courier New',monospace\">Requirement already satisfied: cycler&gt;=0.10 in /opt/jaspy/lib/python3.10/site-packages (from matplotlib&gt;=3.3.0-&gt;metpy) (0.11.0)\n",
       "</pre>\n"
      ],
      "text/plain": [
       "Requirement already satisfied: cycler>=0.10 in /opt/jaspy/lib/python3.10/site-packages (from matplotlib>=3.3.0->metpy) (0.11.0)\n"
      ]
     },
     "metadata": {},
     "output_type": "display_data"
    },
    {
     "data": {
      "text/html": [
       "<pre style=\"white-space:pre;overflow-x:auto;line-height:normal;font-family:Menlo,'DejaVu Sans Mono',consolas,'Courier New',monospace\">Requirement already satisfied: pytz&gt;=2020.1 in /opt/jaspy/lib/python3.10/site-packages (from pandas&gt;=1.0.0-&gt;metpy) (2022.1)\n",
       "</pre>\n"
      ],
      "text/plain": [
       "Requirement already satisfied: pytz>=2020.1 in /opt/jaspy/lib/python3.10/site-packages (from pandas>=1.0.0->metpy) (2022.1)\n"
      ]
     },
     "metadata": {},
     "output_type": "display_data"
    },
    {
     "data": {
      "text/html": [
       "<pre style=\"white-space:pre;overflow-x:auto;line-height:normal;font-family:Menlo,'DejaVu Sans Mono',consolas,'Courier New',monospace\">Requirement already satisfied: requests&gt;=2.19.0 in /opt/jaspy/lib/python3.10/site-packages (from pooch&gt;=1.2.0-&gt;metpy) (2.28.1)\n",
       "</pre>\n"
      ],
      "text/plain": [
       "Requirement already satisfied: requests>=2.19.0 in /opt/jaspy/lib/python3.10/site-packages (from pooch>=1.2.0->metpy) (2.28.1)\n"
      ]
     },
     "metadata": {},
     "output_type": "display_data"
    },
    {
     "data": {
      "text/html": [
       "<pre style=\"white-space:pre;overflow-x:auto;line-height:normal;font-family:Menlo,'DejaVu Sans Mono',consolas,'Courier New',monospace\">Requirement already satisfied: appdirs&gt;=1.3.0 in /opt/jaspy/lib/python3.10/site-packages (from pooch&gt;=1.2.0-&gt;metpy) (1.4.4)\n",
       "</pre>\n"
      ],
      "text/plain": [
       "Requirement already satisfied: appdirs>=1.3.0 in /opt/jaspy/lib/python3.10/site-packages (from pooch>=1.2.0->metpy) (1.4.4)\n"
      ]
     },
     "metadata": {},
     "output_type": "display_data"
    },
    {
     "data": {
      "text/html": [
       "<pre style=\"white-space:pre;overflow-x:auto;line-height:normal;font-family:Menlo,'DejaVu Sans Mono',consolas,'Courier New',monospace\">Requirement already satisfied: certifi in /opt/jaspy/lib/python3.10/site-packages (from pyproj&gt;=2.5.0-&gt;metpy) (2022.9.24)\n",
       "</pre>\n"
      ],
      "text/plain": [
       "Requirement already satisfied: certifi in /opt/jaspy/lib/python3.10/site-packages (from pyproj>=2.5.0->metpy) (2022.9.24)\n"
      ]
     },
     "metadata": {},
     "output_type": "display_data"
    },
    {
     "data": {
      "text/html": [
       "<pre style=\"white-space:pre;overflow-x:auto;line-height:normal;font-family:Menlo,'DejaVu Sans Mono',consolas,'Courier New',monospace\">Requirement already satisfied: six&gt;=1.5 in /opt/jaspy/lib/python3.10/site-packages (from python-dateutil&gt;=2.7-&gt;matplotlib&gt;=3.3.0-&gt;metpy) (1.16.0)\n",
       "</pre>\n"
      ],
      "text/plain": [
       "Requirement already satisfied: six>=1.5 in /opt/jaspy/lib/python3.10/site-packages (from python-dateutil>=2.7->matplotlib>=3.3.0->metpy) (1.16.0)\n"
      ]
     },
     "metadata": {},
     "output_type": "display_data"
    },
    {
     "data": {
      "text/html": [
       "<pre style=\"white-space:pre;overflow-x:auto;line-height:normal;font-family:Menlo,'DejaVu Sans Mono',consolas,'Courier New',monospace\">Requirement already satisfied: idna&lt;4,&gt;=2.5 in /opt/jaspy/lib/python3.10/site-packages (from requests&gt;=2.19.0-&gt;pooch&gt;=1.2.0-&gt;metpy) (3.3)\n",
       "</pre>\n"
      ],
      "text/plain": [
       "Requirement already satisfied: idna<4,>=2.5 in /opt/jaspy/lib/python3.10/site-packages (from requests>=2.19.0->pooch>=1.2.0->metpy) (3.3)\n"
      ]
     },
     "metadata": {},
     "output_type": "display_data"
    },
    {
     "data": {
      "text/html": [
       "<pre style=\"white-space:pre;overflow-x:auto;line-height:normal;font-family:Menlo,'DejaVu Sans Mono',consolas,'Courier New',monospace\">Requirement already satisfied: urllib3&lt;1.27,&gt;=1.21.1 in /opt/jaspy/lib/python3.10/site-packages (from requests&gt;=2.19.0-&gt;pooch&gt;=1.2.0-&gt;metpy) (1.26.10)\n",
       "</pre>\n"
      ],
      "text/plain": [
       "Requirement already satisfied: urllib3<1.27,>=1.21.1 in /opt/jaspy/lib/python3.10/site-packages (from requests>=2.19.0->pooch>=1.2.0->metpy) (1.26.10)\n"
      ]
     },
     "metadata": {},
     "output_type": "display_data"
    },
    {
     "data": {
      "text/html": [
       "<pre style=\"white-space:pre;overflow-x:auto;line-height:normal;font-family:Menlo,'DejaVu Sans Mono',consolas,'Courier New',monospace\">Requirement already satisfied: charset-normalizer&lt;3,&gt;=2 in /opt/jaspy/lib/python3.10/site-packages (from requests&gt;=2.19.0-&gt;pooch&gt;=1.2.0-&gt;metpy) (2.1.0)\n",
       "</pre>\n"
      ],
      "text/plain": [
       "Requirement already satisfied: charset-normalizer<3,>=2 in /opt/jaspy/lib/python3.10/site-packages (from requests>=2.19.0->pooch>=1.2.0->metpy) (2.1.0)\n"
      ]
     },
     "metadata": {},
     "output_type": "display_data"
    },
    {
     "name": "stdout",
     "output_type": "stream",
     "text": [
      "/home/users/arm33/nb-venvs/metpy_venv/lib/python3.10/site-packages/metpy/__init__.py\n"
     ]
    }
   ],
   "source": [
    "# Activate the venv for metpy\n",
    "import virtualenv\n",
    "import pip\n",
    "import os\n",
    "\n",
    "venv_dir = '/home/users/arm33/nb-venvs/venv-notebook'\n",
    "activate_file = os.path.join(venv_dir, \"bin\", \"activate_this.py\")\n",
    "exec(open(activate_file).read(), dict(__file__=activate_file))\n",
    "\n",
    "# First let's assert that we cannot import `fixnc`\n",
    "try:\n",
    "    import metpy\n",
    "except ModuleNotFoundError as err:\n",
    "    print('Failed to import \"metpy\" as expected')\n",
    "    \n",
    "# pip install a package using the venv as a prefix\n",
    "pip.main([\"install\", \"--prefix\", venv_dir, \"metpy\"])\n",
    "\n",
    "import metpy\n",
    "print(metpy.__file__)"
   ]
  },
  {
   "cell_type": "code",
   "execution_count": 3,
   "id": "65fa1cc1-89ed-42d7-8698-21a4609f0758",
   "metadata": {},
   "outputs": [],
   "source": [
    "import numpy as np\n",
    "import numpy.ma as ma\n",
    "import matplotlib.pyplot as plt\n",
    "from netCDF4 import Dataset\n",
    "from metpy.calc import saturation_mixing_ratio\n",
    "from metpy.units import units\n",
    "import numpy.ma as ma\n",
    "import os\n",
    "import sys\n",
    "sys.path.append('../../')\n",
    "import funcs\n"
   ]
  },
  {
   "cell_type": "markdown",
   "id": "45c21ca9-4d47-47fc-a5f2-97b38059916e",
   "metadata": {},
   "source": [
    "## Model specific inputs\n",
    "Different models have slightly different set ups (eg grid points, file names etc)\n",
    "\n",
    "'Blocks' refer to the grid post-spatial averaging"
   ]
  },
  {
   "cell_type": "code",
   "execution_count": 4,
   "id": "d0013d46-ceed-4f3e-929f-9562b70901dc",
   "metadata": {},
   "outputs": [],
   "source": [
    "model = 'ICON_NWP_CRM' \n",
    "\n",
    "#temp labels\n",
    "tempsIn =  ['large_295', 'large_300', 'large_305']\n",
    "tempsOut =  ['large295', 'large300', 'large305']"
   ]
  },
  {
   "cell_type": "code",
   "execution_count": 5,
   "id": "c5033774-9e65-4c10-acb1-d5e6887ee614",
   "metadata": {},
   "outputs": [
    {
     "name": "stdout",
     "output_type": "stream",
     "text": [
      "101 75 2000 134\n"
     ]
    }
   ],
   "source": [
    "#read in sample nc file to get dimensions\n",
    "datapath3D = '/badc/rcemip/data/'+ model +'/RCE_' + tempsIn[0]+ '/3D/'\n",
    "nc_ta = Dataset(datapath3D + model + '-RCE_' + tempsIn[0] + '-3D_last25d.nc')\n",
    "ta = nc_ta.variables['ta'][:]\n",
    "tsize, levsize , ysize, xsize = np.shape(ta) # UCLA has levels in 4th dimension\n",
    "nc_ta.close()\n",
    "print(tsize, levsize, ysize, xsize)\n"
   ]
  },
  {
   "cell_type": "code",
   "execution_count": 6,
   "id": "32dab6cf-8d38-4a95-8f3d-0eb13ecd2a23",
   "metadata": {},
   "outputs": [],
   "source": [
    "#set time, levels, y and x dimensions for this model\n",
    "tsize, levsize, ysize, xsize = 101, 75, 2000, 134"
   ]
  },
  {
   "cell_type": "markdown",
   "id": "bdc00a53-4ab7-4625-bb19-af4ad7616ccb",
   "metadata": {},
   "source": [
    "## Parameters for all models"
   ]
  },
  {
   "cell_type": "code",
   "execution_count": 7,
   "id": "565b9c00-9ed0-49a7-9ca9-f712c7f202dc",
   "metadata": {},
   "outputs": [],
   "source": [
    "bk = 32 # number of x/y gridpoints in a block\n",
    "nodays = 25 # number of days"
   ]
  },
  {
   "cell_type": "code",
   "execution_count": 8,
   "id": "73c17718-6b64-44c9-989f-0e1d0e0bfef6",
   "metadata": {},
   "outputs": [
    {
     "name": "stdout",
     "output_type": "stream",
     "text": [
      "no blocks in x direction:  4 ; no in y direction:  62\n"
     ]
    }
   ],
   "source": [
    "# set up spaitial averaging\n",
    "x_orig = np.arange(xsize) # total number of x points (rows)\n",
    "y_orig = np.arange(ysize) # total number of y points (columns)\n",
    "\n",
    "ny = int(len(y_orig)/bk) # number of x/y blocks in the grid\n",
    "y_new = np.arange(ny*bk)\n",
    "ybk = np.asarray(np.split(y_new, ny))\n",
    "\n",
    "nx = int(len(x_orig)/bk) # number of x/y blocks in the grid\n",
    "x_new = np.arange(nx*bk)\n",
    "xbk = np.asarray(np.split(x_new, nx))\n",
    "print('no blocks in x direction: ', nx, '; no in y direction: ',ny)\n"
   ]
  },
  {
   "cell_type": "markdown",
   "id": "69d946b2-63af-4ed1-a812-781d4e4bde8f",
   "metadata": {},
   "source": [
    "## 2D data\n",
    "\n",
    "- lwcrf - longwave cloud radiative effect, calculated from rlut (outgoing longwave radiation, all sky) and rlutcs (clear sky)\n",
    "- swcrf - as above, but for shortwave\n",
    "- pr - surface precipitation rate\n",
    "- tas - near surface air temperature"
   ]
  },
  {
   "cell_type": "code",
   "execution_count": 6,
   "id": "66c2146a-3d91-491f-976b-3e669430a3bb",
   "metadata": {},
   "outputs": [
    {
     "name": "stdout",
     "output_type": "stream",
     "text": [
      "takes the average over 25 periods of 24 hour averages\n"
     ]
    }
   ],
   "source": [
    "#time params for 2D data\n",
    "#set time params\n",
    "ts = 24 # number of hours want to integrate over\n",
    "nd = int(nodays*ts)\n",
    "totalt = np.arange(nd)# total number of hours \n",
    "tbk = np.asarray(np.split(totalt, nodays))\n",
    "print('takes the average over ' + str(nodays) + ' periods of ' + str(ts)+ ' hour averages')    "
   ]
  },
  {
   "cell_type": "code",
   "execution_count": 7,
   "id": "138f0915-5eb7-4a95-b027-e6ad0cf183f5",
   "metadata": {},
   "outputs": [],
   "source": [
    "\n",
    "dp = '/home/users/arm33/RCEMIP/'+ model + '/processed_new'\n",
    "\n",
    "temp_count = 0\n",
    "for temp in tempsIn:\n",
    "    datapath = '/badc/rcemip/data/'+ model + '/RCE_' + temp + '/2D/'\n",
    "    nc = Dataset( datapath + model + '-RCE_' + temp + '-2D.nc')\n",
    "    lwas_full = nc.variables['rlut'][-nd:,]\n",
    "    print('done lwas')\n",
    "    lwcs_full = nc.variables['rlutcs'][-nd:,]\n",
    "    print('done lwcs')\n",
    "    swas_full = nc.variables['rsut'][-nd:,]\n",
    "    swcs_full = nc.variables['rsutcs'][-nd:,]\n",
    "    print('done swcs')\n",
    "    pr_full = nc.variables['pr'][-nd:,]\n",
    "    nc.close()\n",
    "    print('finished reading')\n",
    "    lwcrf_full = lwcs_full - lwas_full\n",
    "    swcrf_full = swcs_full - swas_full\n",
    "    pr_full = nc.variables['pr'][-nd:,]\n",
    "    lwcrf_bk, swcrf_bk= np.empty((nodays, ny, nx)), np.empty((nodays, ny, nx)) \n",
    "    pr_bk= np.empty((nodays, ny, nx))\n",
    "    for t in range(nodays):\n",
    "        \n",
    "        for i in range(ny):\n",
    "                if i == ny-1: # check if it's the last block, if yes then use all remaining gridpoints\n",
    "                    endy = y_orig[-1]+1\n",
    "                else:\n",
    "                    endy = ybk[i,-1]+1\n",
    "                for j in range(nx): # ditto\n",
    "                    if j == nx-1:\n",
    "                        endx = x_orig[-1]+1\n",
    "                    else:\n",
    "                        endx = xbk[j,-1]+1\n",
    "\n",
    "                    lwcrf_bk[t,i,j] = np.nanmean(lwcrf_full[tbk[t,0]:tbk[t, -1]+1,  ybk[i,0]:endy, xbk[j,0]: endx])\n",
    "                    swcrf_bk[t,i,j] = np.nanmean(swcrf_full[tbk[t,0]:tbk[t, -1]+1,  ybk[i,0]:endy, xbk[j,0]: endx])\n",
    "                    pr_bk[t,i,j] = np.nanmean(pr_full[tbk[t,0]:tbk[t, -1]+1,  ybk[i,0]:endy, xbk[j,0]: endx])\n",
    "\n",
    "\n",
    "    lwcrf_bk.dump(dp + '/2D/'+ tempsOut[temp_count] + 'lwcrf' + str(ts) + 'hrs.npy')\n",
    "    swcrf_bk.dump(dp + '/2D/'+ tempsOut[temp_count] + 'swcrf' + str(ts) + 'hrs.npy')\n",
    "    pr_bk.dump(dp + '/2D/'+ tempsOut[temp_count] + 'pr' + str(ts) + 'hrs.npy')\n",
    "    temp_count +=1"
   ]
  },
  {
   "cell_type": "markdown",
   "id": "76aab9d0-040f-467b-894f-ae88465487cb",
   "metadata": {
    "tags": []
   },
   "source": [
    "## 3D data\n",
    "\n",
    "Note that the 3D data is 6 hourly, so require different time parameters\n",
    "\n",
    "- ua - eastward wind velocity\n",
    "- va - northward wind velocity\n",
    "- wa - vertical velocity\n",
    "- pa - pressure\n",
    "- cli - mass fraction of cloud liqid ice\n",
    "- clw - mass fraction of cloud liquid water\n",
    "- hus - specific humidity\n",
    "- hur - relative humidity\n",
    "- tntr - tendency of air temperature due to radiative heating\n",
    "- ta - atmospheric temperature"
   ]
  },
  {
   "cell_type": "code",
   "execution_count": 6,
   "id": "27626ebc-ec06-4942-84df-67387d2083f6",
   "metadata": {
    "tags": []
   },
   "outputs": [
    {
     "name": "stdout",
     "output_type": "stream",
     "text": [
      "takes the average over 25 periods of 4 hour averages\n"
     ]
    }
   ],
   "source": [
    "#time params for 3D data\n",
    "ts = 4 # number of timesteps want to integrate over\n",
    "nd = int(nodays*ts)\n",
    "totalt = np.arange(nd)# total number of timesteps \n",
    "tbk = np.asarray(np.split(totalt, nodays))\n",
    "print('takes the average over ' + str(nodays) + ' periods of ' + str(ts)+ ' hour averages')    "
   ]
  },
  {
   "cell_type": "code",
   "execution_count": 7,
   "id": "a50891d8-42fa-4b18-940a-ea8718e2a6ba",
   "metadata": {},
   "outputs": [
    {
     "name": "stdout",
     "output_type": "stream",
     "text": [
      "-----------large_295----------\n",
      "ua\n",
      "va\n",
      "-----------large_300----------\n",
      "ua\n",
      "va\n",
      "-----------large_305----------\n",
      "ua\n",
      "va\n"
     ]
    }
   ],
   "source": [
    "vars = ['ua', 'va','pa','cli', 'clw','wa','hus','hur', 'tntr', 'ta']\n",
    "\n",
    "dp = '/home/users/arm33/RCEMIP/'+ model + '/processed_new'\n",
    "\n",
    "temp_count = 0\n",
    "for temp in tempsIn:\n",
    "    print('-----------' + temp + '----------')\n",
    "    for var in vars:\n",
    "        print(var)\n",
    "    \n",
    "        var_bk = np.empty((nodays, levsize, ny, nx))\n",
    "        datapath = '/badc/rcemip/data/'+ model +'/RCE_' + temp + '/3D/'\n",
    "        for t in range(nodays):\n",
    "            nc = Dataset( datapath + model + '-RCE_' + temp + '-3D_last25d.nc')\n",
    "            var_full = nc.variables[var][tbk[t,0]:tbk[t,-1]+1,]\n",
    "            nc.close()\n",
    "            for i in range(ny):\n",
    "                if i == ny-1: # check if it's the last block, if yes then use all remaining gridpoints\n",
    "                    endy = y_orig[-1]+1\n",
    "                else:\n",
    "                    endy = ybk[i,-1]+1\n",
    "                for j in range(nx): # ditto\n",
    "                    if j == nx-1:\n",
    "                        endx = x_orig[-1]+1\n",
    "                    else:\n",
    "                        endx = xbk[j,-1]+1\n",
    "                    for k in range(levsize):\n",
    "                        var_bk[t, k,i,j] = np.nanmean(var_full[:, k, ybk[i,0]:endy, xbk[j,0]: endx])\n",
    "\n",
    "\n",
    "\n",
    "        var_bk.dump(dp + '/3D/' + tempsOut[temp_count] + var + '_profile_25d.npy')\n",
    "\n",
    "    temp_count+=1\n"
   ]
  },
  {
   "cell_type": "markdown",
   "id": "a23a16fb-17bb-44de-919d-1a16cbbc1614",
   "metadata": {},
   "source": [
    "## Cloud fraction\n",
    "\n",
    "This follows the procedure described in Wing et al., 2020\n",
    "\n",
    "1. Read in clw, cli ta and pa for each day (four time steps)\n",
    "2. Take the mean for that 24 hours\n",
    "3. Calculate the saturation mixing ratio and the cloud condensate (= cli + clw)\n",
    "4. for each 32 x 32 block, calculate the proportion of points where either the cloud condensate is grater than 0.00001, or greater than the 0.01 x the saturation mixing ratio"
   ]
  },
  {
   "cell_type": "code",
   "execution_count": 6,
   "id": "ffd704b7-c036-4ecb-a8ec-4ac49f2146ac",
   "metadata": {
    "tags": []
   },
   "outputs": [
    {
     "name": "stdout",
     "output_type": "stream",
     "text": [
      "takes the average over 25 periods of 4 hour averages\n"
     ]
    }
   ],
   "source": [
    "#time params for 3D data\n",
    "ts = 4 # number of timesteps want to integrate over\n",
    "nd = int(nodays*ts)\n",
    "totalt = np.arange(nd)# total number of timesteps \n",
    "tbk = np.asarray(np.split(totalt, nodays))\n",
    "print('takes the average over ' + str(nodays) + ' periods of ' + str(ts)+ ' hour averages')    "
   ]
  },
  {
   "cell_type": "code",
   "execution_count": 15,
   "id": "7a1dca70-e564-4300-8276-ce46d22c9979",
   "metadata": {},
   "outputs": [
    {
     "name": "stdout",
     "output_type": "stream",
     "text": [
      "-----------large_295----------\n",
      "0\n",
      "1\n",
      "2\n",
      "3\n",
      "4\n",
      "5\n",
      "6\n",
      "7\n",
      "8\n",
      "9\n",
      "10\n",
      "11\n",
      "12\n",
      "13\n",
      "14\n",
      "15\n",
      "16\n",
      "17\n",
      "18\n",
      "19\n",
      "20\n",
      "21\n",
      "22\n",
      "23\n",
      "24\n",
      "-----------large_300----------\n",
      "0\n",
      "1\n",
      "2\n",
      "3\n",
      "4\n",
      "5\n",
      "6\n",
      "7\n",
      "8\n",
      "9\n",
      "10\n",
      "11\n",
      "12\n",
      "13\n",
      "14\n",
      "15\n",
      "16\n",
      "17\n",
      "18\n",
      "19\n",
      "20\n",
      "21\n",
      "22\n",
      "23\n",
      "24\n",
      "-----------large_305----------\n",
      "0\n",
      "1\n",
      "2\n",
      "3\n",
      "4\n",
      "5\n",
      "6\n",
      "7\n",
      "8\n",
      "9\n",
      "10\n",
      "11\n",
      "12\n",
      "13\n",
      "14\n",
      "15\n",
      "16\n",
      "17\n",
      "18\n",
      "19\n",
      "20\n",
      "21\n",
      "22\n",
      "23\n",
      "24\n"
     ]
    }
   ],
   "source": [
    "#cloud fraction\n",
    "dp = '/home/users/arm33/RCEMIP/'+ model + '/processed_new'  \n",
    "\n",
    "nd = nodays*ts\n",
    "tempCount = 0\n",
    "for temp in tempsIn:\n",
    "    print('-----------' + temp + '----------')\n",
    "    #calc 24 hour means of cloud condensate and sat mix ratio\n",
    "    satmixr =np.empty((nodays, levsize,len(y_orig), len(x_orig) ))\n",
    "    cloudcon = np.empty((nodays, levsize,len(y_orig), len(x_orig) ))\n",
    "    datapath = '/badc/rcemip/data/'+ model +'/RCE_' + temp + '/3D/'\n",
    "    for t in range(nodays):       \n",
    "        nc = Dataset( datapath + model + '-RCE_' + temp + '-3D_last25d.nc')\n",
    "        clw = np.mean(nc.variables['clw'][tbk[t,0]:tbk[t,-1]+1, ], axis = 0)\n",
    "        cli = np.mean(nc.variables['cli'][tbk[t,0]:tbk[t,-1]+1, ], axis = 0)\n",
    "        pa = np.mean(nc.variables['pa'][tbk[t,0]:tbk[t,-1]+1,], axis = 0)\n",
    "        pa = np.asarray(pa) * units.pascal\n",
    "        ta = np.mean(nc.variables['ta'][tbk[t,0]:tbk[t,-1]+1,], axis =0)\n",
    "        ta = np.asarray(ta) * units.K\n",
    "        satmixr[t, ] = metpy.calc.saturation_mixing_ratio(pa, ta)\n",
    "        cloudcon[t,]= clw + cli\n",
    "        nc.close()\n",
    "\n",
    "    #calc cloud frac\n",
    "    cldfrac = np.zeros((nodays, levsize, ny, nx))\n",
    "    for t in range(nodays):\n",
    "        print(t)\n",
    "        for k in range(levsize):\n",
    "            for i in range(ny):\n",
    "                if i == ny-1: # check if it's the last block, if yes then use all remaining gridpoints\n",
    "                    endy = y_orig[-1]+1\n",
    "                else:\n",
    "                    endy = ybk[i,-1]+1\n",
    "                for j in range(nx): # ditto\n",
    "                    if j == nx-1:\n",
    "                        endx = x_orig[-1]+1\n",
    "                    else:\n",
    "                        endx = xbk[j,-1]+1\n",
    "\n",
    "                    cc = cloudcon[t,k, ybk[i,0]:endy, xbk[j,0]: endx].flatten()\n",
    "                    sm = satmixr[t,k, ybk[i,0]:endy, xbk[j,0]: endx].flatten()\n",
    "                    no_grid_points = len(sm)\n",
    "                    count = 0\n",
    "                    for r in range(no_grid_points):\n",
    "                        if cc[r] > 0.00001:\n",
    "                            count +=1\n",
    "                        elif cc[r] > 0.01*sm[r]:\n",
    "                            count +=1 \n",
    "\n",
    "                    cldfrac[t,k, i , j ] = count/no_grid_points\n",
    "\n",
    "    cldfrac.dump(dp + '/3D/'+ tempsOut[tempCount] + 'cldfrac_profile_25d.npy')\n",
    "    tempCount +=1"
   ]
  },
  {
   "cell_type": "code",
   "execution_count": null,
   "id": "712c15a9-163c-4815-ba95-6aca80643c91",
   "metadata": {},
   "outputs": [],
   "source": []
  }
 ],
 "metadata": {
  "kernelspec": {
   "display_name": "Python 3 + Jaspy",
   "language": "python",
   "name": "jaspy"
  },
  "language_info": {
   "codemirror_mode": {
    "name": "ipython",
    "version": 3
   },
   "file_extension": ".py",
   "mimetype": "text/x-python",
   "name": "python",
   "nbconvert_exporter": "python",
   "pygments_lexer": "ipython3",
   "version": "3.10.5"
  }
 },
 "nbformat": 4,
 "nbformat_minor": 5
}
